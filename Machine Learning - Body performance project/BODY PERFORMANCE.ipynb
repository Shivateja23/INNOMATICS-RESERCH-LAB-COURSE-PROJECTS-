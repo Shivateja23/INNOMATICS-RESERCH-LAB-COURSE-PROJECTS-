{
 "cells": [
  {
   "cell_type": "markdown",
   "id": "99eb90d6-2f5d-4c43-aec4-894f9555db5f",
   "metadata": {},
   "source": [
    "\"The foundation of this project is a comprehensive dataset originally compiled by the Korea Sports Promotion Foundation. This publicly available dataset contains a wealth of information on various body performance metrics, including [mention a few features].\n",
    "\n",
    "We sourced this data from an open online repository. However, it's important to note that the raw data required significant preprocessing and filtering on our part. We specifically focused on [explain your processing steps] to ensure the data was clean, relevant, and suitable for our multi-class classification task. This preparation was crucial for achieving the insights and model performance we'll be discussing.\""
   ]
  },
  {
   "cell_type": "code",
   "execution_count": 97,
   "id": "704a92f2-5aae-4c4d-ae0b-30df269a38be",
   "metadata": {},
   "outputs": [],
   "source": [
    "import pandas as pd\n",
    "import numpy as np"
   ]
  },
  {
   "cell_type": "code",
   "execution_count": 98,
   "id": "f2e196c8-399a-4e18-92ac-42e2a896dc4b",
   "metadata": {},
   "outputs": [],
   "source": [
    "df = pd.read_csv(r\"B:\\projectML\\Body Performance\\Body_Performance.csv\")"
   ]
  },
  {
   "cell_type": "code",
   "execution_count": 99,
   "id": "963df1f9-0178-4e17-944e-c6283d07ccb7",
   "metadata": {},
   "outputs": [
    {
     "data": {
      "text/html": [
       "<div>\n",
       "<style scoped>\n",
       "    .dataframe tbody tr th:only-of-type {\n",
       "        vertical-align: middle;\n",
       "    }\n",
       "\n",
       "    .dataframe tbody tr th {\n",
       "        vertical-align: top;\n",
       "    }\n",
       "\n",
       "    .dataframe thead th {\n",
       "        text-align: right;\n",
       "    }\n",
       "</style>\n",
       "<table border=\"1\" class=\"dataframe\">\n",
       "  <thead>\n",
       "    <tr style=\"text-align: right;\">\n",
       "      <th></th>\n",
       "      <th>Unnamed: 0</th>\n",
       "      <th>Age</th>\n",
       "      <th>Gender</th>\n",
       "      <th>Height_CM</th>\n",
       "      <th>Weight_KG</th>\n",
       "      <th>Body_Fat</th>\n",
       "      <th>Diastolic</th>\n",
       "      <th>Systolic</th>\n",
       "      <th>Grip_Force</th>\n",
       "      <th>Sit_and_BendForward_CM</th>\n",
       "      <th>Sit_Up_Counts</th>\n",
       "      <th>Broad_Jump_CM</th>\n",
       "      <th>Performance</th>\n",
       "    </tr>\n",
       "  </thead>\n",
       "  <tbody>\n",
       "    <tr>\n",
       "      <th>0</th>\n",
       "      <td>0</td>\n",
       "      <td>27</td>\n",
       "      <td>M</td>\n",
       "      <td>172.3</td>\n",
       "      <td>75.24</td>\n",
       "      <td>21.3</td>\n",
       "      <td>80</td>\n",
       "      <td>130</td>\n",
       "      <td>54.9</td>\n",
       "      <td>18.4</td>\n",
       "      <td>60</td>\n",
       "      <td>217</td>\n",
       "      <td>Average</td>\n",
       "    </tr>\n",
       "    <tr>\n",
       "      <th>1</th>\n",
       "      <td>1</td>\n",
       "      <td>25</td>\n",
       "      <td>M</td>\n",
       "      <td>165.0</td>\n",
       "      <td>55.80</td>\n",
       "      <td>15.7</td>\n",
       "      <td>77</td>\n",
       "      <td>126</td>\n",
       "      <td>36.4</td>\n",
       "      <td>16.3</td>\n",
       "      <td>53</td>\n",
       "      <td>229</td>\n",
       "      <td>Strong</td>\n",
       "    </tr>\n",
       "    <tr>\n",
       "      <th>2</th>\n",
       "      <td>2</td>\n",
       "      <td>31</td>\n",
       "      <td>M</td>\n",
       "      <td>179.6</td>\n",
       "      <td>78.00</td>\n",
       "      <td>20.1</td>\n",
       "      <td>92</td>\n",
       "      <td>152</td>\n",
       "      <td>44.8</td>\n",
       "      <td>12.0</td>\n",
       "      <td>49</td>\n",
       "      <td>181</td>\n",
       "      <td>Average</td>\n",
       "    </tr>\n",
       "    <tr>\n",
       "      <th>3</th>\n",
       "      <td>3</td>\n",
       "      <td>32</td>\n",
       "      <td>M</td>\n",
       "      <td>174.5</td>\n",
       "      <td>71.10</td>\n",
       "      <td>18.4</td>\n",
       "      <td>76</td>\n",
       "      <td>147</td>\n",
       "      <td>41.4</td>\n",
       "      <td>15.2</td>\n",
       "      <td>53</td>\n",
       "      <td>219</td>\n",
       "      <td>Good</td>\n",
       "    </tr>\n",
       "    <tr>\n",
       "      <th>4</th>\n",
       "      <td>4</td>\n",
       "      <td>28</td>\n",
       "      <td>M</td>\n",
       "      <td>173.8</td>\n",
       "      <td>67.70</td>\n",
       "      <td>17.1</td>\n",
       "      <td>70</td>\n",
       "      <td>127</td>\n",
       "      <td>43.5</td>\n",
       "      <td>27.1</td>\n",
       "      <td>45</td>\n",
       "      <td>217</td>\n",
       "      <td>Good</td>\n",
       "    </tr>\n",
       "    <tr>\n",
       "      <th>...</th>\n",
       "      <td>...</td>\n",
       "      <td>...</td>\n",
       "      <td>...</td>\n",
       "      <td>...</td>\n",
       "      <td>...</td>\n",
       "      <td>...</td>\n",
       "      <td>...</td>\n",
       "      <td>...</td>\n",
       "      <td>...</td>\n",
       "      <td>...</td>\n",
       "      <td>...</td>\n",
       "      <td>...</td>\n",
       "      <td>...</td>\n",
       "    </tr>\n",
       "    <tr>\n",
       "      <th>13387</th>\n",
       "      <td>13388</td>\n",
       "      <td>25</td>\n",
       "      <td>M</td>\n",
       "      <td>172.1</td>\n",
       "      <td>71.80</td>\n",
       "      <td>16.2</td>\n",
       "      <td>74</td>\n",
       "      <td>141</td>\n",
       "      <td>35.8</td>\n",
       "      <td>17.4</td>\n",
       "      <td>47</td>\n",
       "      <td>198</td>\n",
       "      <td>Average</td>\n",
       "    </tr>\n",
       "    <tr>\n",
       "      <th>13388</th>\n",
       "      <td>13389</td>\n",
       "      <td>21</td>\n",
       "      <td>M</td>\n",
       "      <td>179.7</td>\n",
       "      <td>63.90</td>\n",
       "      <td>12.1</td>\n",
       "      <td>74</td>\n",
       "      <td>128</td>\n",
       "      <td>33.0</td>\n",
       "      <td>1.1</td>\n",
       "      <td>48</td>\n",
       "      <td>167</td>\n",
       "      <td>Weak</td>\n",
       "    </tr>\n",
       "    <tr>\n",
       "      <th>13389</th>\n",
       "      <td>13390</td>\n",
       "      <td>39</td>\n",
       "      <td>M</td>\n",
       "      <td>177.2</td>\n",
       "      <td>80.50</td>\n",
       "      <td>20.1</td>\n",
       "      <td>78</td>\n",
       "      <td>132</td>\n",
       "      <td>63.5</td>\n",
       "      <td>16.4</td>\n",
       "      <td>45</td>\n",
       "      <td>229</td>\n",
       "      <td>Strong</td>\n",
       "    </tr>\n",
       "    <tr>\n",
       "      <th>13390</th>\n",
       "      <td>13391</td>\n",
       "      <td>64</td>\n",
       "      <td>F</td>\n",
       "      <td>146.1</td>\n",
       "      <td>57.70</td>\n",
       "      <td>40.4</td>\n",
       "      <td>68</td>\n",
       "      <td>121</td>\n",
       "      <td>19.3</td>\n",
       "      <td>9.2</td>\n",
       "      <td>0</td>\n",
       "      <td>75</td>\n",
       "      <td>Weak</td>\n",
       "    </tr>\n",
       "    <tr>\n",
       "      <th>13391</th>\n",
       "      <td>13392</td>\n",
       "      <td>34</td>\n",
       "      <td>M</td>\n",
       "      <td>164.0</td>\n",
       "      <td>66.10</td>\n",
       "      <td>19.5</td>\n",
       "      <td>82</td>\n",
       "      <td>150</td>\n",
       "      <td>35.9</td>\n",
       "      <td>7.1</td>\n",
       "      <td>51</td>\n",
       "      <td>180</td>\n",
       "      <td>Average</td>\n",
       "    </tr>\n",
       "  </tbody>\n",
       "</table>\n",
       "<p>13392 rows × 13 columns</p>\n",
       "</div>"
      ],
      "text/plain": [
       "       Unnamed: 0  Age Gender  Height_CM  Weight_KG  Body_Fat  Diastolic  \\\n",
       "0               0   27      M      172.3      75.24      21.3         80   \n",
       "1               1   25      M      165.0      55.80      15.7         77   \n",
       "2               2   31      M      179.6      78.00      20.1         92   \n",
       "3               3   32      M      174.5      71.10      18.4         76   \n",
       "4               4   28      M      173.8      67.70      17.1         70   \n",
       "...           ...  ...    ...        ...        ...       ...        ...   \n",
       "13387       13388   25      M      172.1      71.80      16.2         74   \n",
       "13388       13389   21      M      179.7      63.90      12.1         74   \n",
       "13389       13390   39      M      177.2      80.50      20.1         78   \n",
       "13390       13391   64      F      146.1      57.70      40.4         68   \n",
       "13391       13392   34      M      164.0      66.10      19.5         82   \n",
       "\n",
       "       Systolic  Grip_Force  Sit_and_BendForward_CM  Sit_Up_Counts  \\\n",
       "0           130        54.9                    18.4             60   \n",
       "1           126        36.4                    16.3             53   \n",
       "2           152        44.8                    12.0             49   \n",
       "3           147        41.4                    15.2             53   \n",
       "4           127        43.5                    27.1             45   \n",
       "...         ...         ...                     ...            ...   \n",
       "13387       141        35.8                    17.4             47   \n",
       "13388       128        33.0                     1.1             48   \n",
       "13389       132        63.5                    16.4             45   \n",
       "13390       121        19.3                     9.2              0   \n",
       "13391       150        35.9                     7.1             51   \n",
       "\n",
       "       Broad_Jump_CM Performance  \n",
       "0                217     Average  \n",
       "1                229      Strong  \n",
       "2                181     Average  \n",
       "3                219        Good  \n",
       "4                217        Good  \n",
       "...              ...         ...  \n",
       "13387            198     Average  \n",
       "13388            167        Weak  \n",
       "13389            229      Strong  \n",
       "13390             75        Weak  \n",
       "13391            180     Average  \n",
       "\n",
       "[13392 rows x 13 columns]"
      ]
     },
     "execution_count": 99,
     "metadata": {},
     "output_type": "execute_result"
    }
   ],
   "source": [
    "df"
   ]
  },
  {
   "cell_type": "code",
   "execution_count": 100,
   "id": "db74fb05-3207-4943-8727-1bcbb1f96bef",
   "metadata": {},
   "outputs": [],
   "source": [
    "df.drop(\"Unnamed: 0\",axis = 1,inplace = True)"
   ]
  },
  {
   "cell_type": "code",
   "execution_count": 101,
   "id": "ab4cf48f-fdd3-4417-883c-cc78d41027a4",
   "metadata": {},
   "outputs": [
    {
     "data": {
      "text/html": [
       "<div>\n",
       "<style scoped>\n",
       "    .dataframe tbody tr th:only-of-type {\n",
       "        vertical-align: middle;\n",
       "    }\n",
       "\n",
       "    .dataframe tbody tr th {\n",
       "        vertical-align: top;\n",
       "    }\n",
       "\n",
       "    .dataframe thead th {\n",
       "        text-align: right;\n",
       "    }\n",
       "</style>\n",
       "<table border=\"1\" class=\"dataframe\">\n",
       "  <thead>\n",
       "    <tr style=\"text-align: right;\">\n",
       "      <th></th>\n",
       "      <th>Age</th>\n",
       "      <th>Gender</th>\n",
       "      <th>Height_CM</th>\n",
       "      <th>Weight_KG</th>\n",
       "      <th>Body_Fat</th>\n",
       "      <th>Diastolic</th>\n",
       "      <th>Systolic</th>\n",
       "      <th>Grip_Force</th>\n",
       "      <th>Sit_and_BendForward_CM</th>\n",
       "      <th>Sit_Up_Counts</th>\n",
       "      <th>Broad_Jump_CM</th>\n",
       "      <th>Performance</th>\n",
       "    </tr>\n",
       "  </thead>\n",
       "  <tbody>\n",
       "    <tr>\n",
       "      <th>0</th>\n",
       "      <td>27</td>\n",
       "      <td>M</td>\n",
       "      <td>172.3</td>\n",
       "      <td>75.24</td>\n",
       "      <td>21.3</td>\n",
       "      <td>80</td>\n",
       "      <td>130</td>\n",
       "      <td>54.9</td>\n",
       "      <td>18.4</td>\n",
       "      <td>60</td>\n",
       "      <td>217</td>\n",
       "      <td>Average</td>\n",
       "    </tr>\n",
       "    <tr>\n",
       "      <th>1</th>\n",
       "      <td>25</td>\n",
       "      <td>M</td>\n",
       "      <td>165.0</td>\n",
       "      <td>55.80</td>\n",
       "      <td>15.7</td>\n",
       "      <td>77</td>\n",
       "      <td>126</td>\n",
       "      <td>36.4</td>\n",
       "      <td>16.3</td>\n",
       "      <td>53</td>\n",
       "      <td>229</td>\n",
       "      <td>Strong</td>\n",
       "    </tr>\n",
       "    <tr>\n",
       "      <th>2</th>\n",
       "      <td>31</td>\n",
       "      <td>M</td>\n",
       "      <td>179.6</td>\n",
       "      <td>78.00</td>\n",
       "      <td>20.1</td>\n",
       "      <td>92</td>\n",
       "      <td>152</td>\n",
       "      <td>44.8</td>\n",
       "      <td>12.0</td>\n",
       "      <td>49</td>\n",
       "      <td>181</td>\n",
       "      <td>Average</td>\n",
       "    </tr>\n",
       "    <tr>\n",
       "      <th>3</th>\n",
       "      <td>32</td>\n",
       "      <td>M</td>\n",
       "      <td>174.5</td>\n",
       "      <td>71.10</td>\n",
       "      <td>18.4</td>\n",
       "      <td>76</td>\n",
       "      <td>147</td>\n",
       "      <td>41.4</td>\n",
       "      <td>15.2</td>\n",
       "      <td>53</td>\n",
       "      <td>219</td>\n",
       "      <td>Good</td>\n",
       "    </tr>\n",
       "    <tr>\n",
       "      <th>4</th>\n",
       "      <td>28</td>\n",
       "      <td>M</td>\n",
       "      <td>173.8</td>\n",
       "      <td>67.70</td>\n",
       "      <td>17.1</td>\n",
       "      <td>70</td>\n",
       "      <td>127</td>\n",
       "      <td>43.5</td>\n",
       "      <td>27.1</td>\n",
       "      <td>45</td>\n",
       "      <td>217</td>\n",
       "      <td>Good</td>\n",
       "    </tr>\n",
       "    <tr>\n",
       "      <th>...</th>\n",
       "      <td>...</td>\n",
       "      <td>...</td>\n",
       "      <td>...</td>\n",
       "      <td>...</td>\n",
       "      <td>...</td>\n",
       "      <td>...</td>\n",
       "      <td>...</td>\n",
       "      <td>...</td>\n",
       "      <td>...</td>\n",
       "      <td>...</td>\n",
       "      <td>...</td>\n",
       "      <td>...</td>\n",
       "    </tr>\n",
       "    <tr>\n",
       "      <th>13387</th>\n",
       "      <td>25</td>\n",
       "      <td>M</td>\n",
       "      <td>172.1</td>\n",
       "      <td>71.80</td>\n",
       "      <td>16.2</td>\n",
       "      <td>74</td>\n",
       "      <td>141</td>\n",
       "      <td>35.8</td>\n",
       "      <td>17.4</td>\n",
       "      <td>47</td>\n",
       "      <td>198</td>\n",
       "      <td>Average</td>\n",
       "    </tr>\n",
       "    <tr>\n",
       "      <th>13388</th>\n",
       "      <td>21</td>\n",
       "      <td>M</td>\n",
       "      <td>179.7</td>\n",
       "      <td>63.90</td>\n",
       "      <td>12.1</td>\n",
       "      <td>74</td>\n",
       "      <td>128</td>\n",
       "      <td>33.0</td>\n",
       "      <td>1.1</td>\n",
       "      <td>48</td>\n",
       "      <td>167</td>\n",
       "      <td>Weak</td>\n",
       "    </tr>\n",
       "    <tr>\n",
       "      <th>13389</th>\n",
       "      <td>39</td>\n",
       "      <td>M</td>\n",
       "      <td>177.2</td>\n",
       "      <td>80.50</td>\n",
       "      <td>20.1</td>\n",
       "      <td>78</td>\n",
       "      <td>132</td>\n",
       "      <td>63.5</td>\n",
       "      <td>16.4</td>\n",
       "      <td>45</td>\n",
       "      <td>229</td>\n",
       "      <td>Strong</td>\n",
       "    </tr>\n",
       "    <tr>\n",
       "      <th>13390</th>\n",
       "      <td>64</td>\n",
       "      <td>F</td>\n",
       "      <td>146.1</td>\n",
       "      <td>57.70</td>\n",
       "      <td>40.4</td>\n",
       "      <td>68</td>\n",
       "      <td>121</td>\n",
       "      <td>19.3</td>\n",
       "      <td>9.2</td>\n",
       "      <td>0</td>\n",
       "      <td>75</td>\n",
       "      <td>Weak</td>\n",
       "    </tr>\n",
       "    <tr>\n",
       "      <th>13391</th>\n",
       "      <td>34</td>\n",
       "      <td>M</td>\n",
       "      <td>164.0</td>\n",
       "      <td>66.10</td>\n",
       "      <td>19.5</td>\n",
       "      <td>82</td>\n",
       "      <td>150</td>\n",
       "      <td>35.9</td>\n",
       "      <td>7.1</td>\n",
       "      <td>51</td>\n",
       "      <td>180</td>\n",
       "      <td>Average</td>\n",
       "    </tr>\n",
       "  </tbody>\n",
       "</table>\n",
       "<p>13392 rows × 12 columns</p>\n",
       "</div>"
      ],
      "text/plain": [
       "       Age Gender  Height_CM  Weight_KG  Body_Fat  Diastolic  Systolic  \\\n",
       "0       27      M      172.3      75.24      21.3         80       130   \n",
       "1       25      M      165.0      55.80      15.7         77       126   \n",
       "2       31      M      179.6      78.00      20.1         92       152   \n",
       "3       32      M      174.5      71.10      18.4         76       147   \n",
       "4       28      M      173.8      67.70      17.1         70       127   \n",
       "...    ...    ...        ...        ...       ...        ...       ...   \n",
       "13387   25      M      172.1      71.80      16.2         74       141   \n",
       "13388   21      M      179.7      63.90      12.1         74       128   \n",
       "13389   39      M      177.2      80.50      20.1         78       132   \n",
       "13390   64      F      146.1      57.70      40.4         68       121   \n",
       "13391   34      M      164.0      66.10      19.5         82       150   \n",
       "\n",
       "       Grip_Force  Sit_and_BendForward_CM  Sit_Up_Counts  Broad_Jump_CM  \\\n",
       "0            54.9                    18.4             60            217   \n",
       "1            36.4                    16.3             53            229   \n",
       "2            44.8                    12.0             49            181   \n",
       "3            41.4                    15.2             53            219   \n",
       "4            43.5                    27.1             45            217   \n",
       "...           ...                     ...            ...            ...   \n",
       "13387        35.8                    17.4             47            198   \n",
       "13388        33.0                     1.1             48            167   \n",
       "13389        63.5                    16.4             45            229   \n",
       "13390        19.3                     9.2              0             75   \n",
       "13391        35.9                     7.1             51            180   \n",
       "\n",
       "      Performance  \n",
       "0         Average  \n",
       "1          Strong  \n",
       "2         Average  \n",
       "3            Good  \n",
       "4            Good  \n",
       "...           ...  \n",
       "13387     Average  \n",
       "13388        Weak  \n",
       "13389      Strong  \n",
       "13390        Weak  \n",
       "13391     Average  \n",
       "\n",
       "[13392 rows x 12 columns]"
      ]
     },
     "execution_count": 101,
     "metadata": {},
     "output_type": "execute_result"
    }
   ],
   "source": [
    "df"
   ]
  },
  {
   "cell_type": "markdown",
   "id": "1efd979d-4198-4060-9373-426cca2192d1",
   "metadata": {},
   "source": [
    "Age - Age of the individual.\n",
    "\n",
    "Gender - Gender of the individual (M or F).\n",
    "\n",
    "Height_CM - Height in centimeters.\n",
    "\n",
    "Weight_KG - Weight in kilograms.\n",
    "\n",
    "Body_Fat - Body fat percentage.\n",
    "\n",
    "Diastolic - Diastolic blood pressure.(Diastolic blood pressure is the lower number in a blood pressure reading,)\n",
    "\n",
    "Systolic - Systolic blood pressure.(Systolic blood pressure is the top number in a blood pressure reading)\n",
    "\n",
    "Grip_Force - Grip strength force.*Grip force, or grip strength, is a measure of how strong your hand is)\n",
    "\n",
    "Sit_and_BendForward_CM - Flexibility measurement.\n",
    "\n",
    "Sit_Up_Counts - Number of sit-ups performed.\n",
    "\n",
    "Broad_Jump_CM - Distance of broad jump in centimeters.(A broad jump, also called a standing long jump)\n",
    "\n",
    "Performance - Performance category (Weak, Average, Good, Strong)."
   ]
  },
  {
   "cell_type": "code",
   "execution_count": 102,
   "id": "2e8a7b16-6cfa-44ce-abc0-6cf171a0a57f",
   "metadata": {},
   "outputs": [],
   "source": [
    "numeric_data = df.select_dtypes(exclude='object')\n",
    "categorical_data = df.select_dtypes(include='object')"
   ]
  },
  {
   "cell_type": "code",
   "execution_count": 103,
   "id": "e6c4eb96-558c-47c8-84ef-e6e6f777ba98",
   "metadata": {},
   "outputs": [
    {
     "data": {
      "text/plain": [
       "Age                        36.775836\n",
       "Height_CM                 168.560671\n",
       "Weight_KG                  67.448686\n",
       "Body_Fat                   23.239608\n",
       "Diastolic                  78.797416\n",
       "Systolic                  130.238053\n",
       "Grip_Force                 36.964569\n",
       "Sit_and_BendForward_CM     15.208933\n",
       "Sit_Up_Counts              39.770311\n",
       "Broad_Jump_CM             190.131347\n",
       "dtype: float64"
      ]
     },
     "execution_count": 103,
     "metadata": {},
     "output_type": "execute_result"
    }
   ],
   "source": [
    "numeric_data.mean()"
   ]
  },
  {
   "cell_type": "code",
   "execution_count": 104,
   "id": "a7a7d627-312b-4b37-a780-610e3ea42992",
   "metadata": {},
   "outputs": [
    {
     "data": {
      "text/html": [
       "<div>\n",
       "<style scoped>\n",
       "    .dataframe tbody tr th:only-of-type {\n",
       "        vertical-align: middle;\n",
       "    }\n",
       "\n",
       "    .dataframe tbody tr th {\n",
       "        vertical-align: top;\n",
       "    }\n",
       "\n",
       "    .dataframe thead th {\n",
       "        text-align: right;\n",
       "    }\n",
       "</style>\n",
       "<table border=\"1\" class=\"dataframe\">\n",
       "  <thead>\n",
       "    <tr style=\"text-align: right;\">\n",
       "      <th></th>\n",
       "      <th>Age</th>\n",
       "      <th>Gender</th>\n",
       "      <th>Height_CM</th>\n",
       "      <th>Weight_KG</th>\n",
       "      <th>Body_Fat</th>\n",
       "      <th>Diastolic</th>\n",
       "      <th>Systolic</th>\n",
       "      <th>Grip_Force</th>\n",
       "      <th>Sit_and_BendForward_CM</th>\n",
       "      <th>Sit_Up_Counts</th>\n",
       "      <th>Broad_Jump_CM</th>\n",
       "      <th>Performance</th>\n",
       "    </tr>\n",
       "  </thead>\n",
       "  <tbody>\n",
       "    <tr>\n",
       "      <th>0</th>\n",
       "      <td>21.0</td>\n",
       "      <td>M</td>\n",
       "      <td>170.0</td>\n",
       "      <td>70.5</td>\n",
       "      <td>23.1</td>\n",
       "      <td>80.0</td>\n",
       "      <td>120.0</td>\n",
       "      <td>43.1</td>\n",
       "      <td>20.0</td>\n",
       "      <td>45.0</td>\n",
       "      <td>211.0</td>\n",
       "      <td>Average</td>\n",
       "    </tr>\n",
       "    <tr>\n",
       "      <th>1</th>\n",
       "      <td>NaN</td>\n",
       "      <td>NaN</td>\n",
       "      <td>NaN</td>\n",
       "      <td>NaN</td>\n",
       "      <td>NaN</td>\n",
       "      <td>NaN</td>\n",
       "      <td>NaN</td>\n",
       "      <td>NaN</td>\n",
       "      <td>NaN</td>\n",
       "      <td>NaN</td>\n",
       "      <td>NaN</td>\n",
       "      <td>Weak</td>\n",
       "    </tr>\n",
       "  </tbody>\n",
       "</table>\n",
       "</div>"
      ],
      "text/plain": [
       "    Age Gender  Height_CM  Weight_KG  Body_Fat  Diastolic  Systolic  \\\n",
       "0  21.0      M      170.0       70.5      23.1       80.0     120.0   \n",
       "1   NaN    NaN        NaN        NaN       NaN        NaN       NaN   \n",
       "\n",
       "   Grip_Force  Sit_and_BendForward_CM  Sit_Up_Counts  Broad_Jump_CM  \\\n",
       "0        43.1                    20.0           45.0          211.0   \n",
       "1         NaN                     NaN            NaN            NaN   \n",
       "\n",
       "  Performance  \n",
       "0     Average  \n",
       "1        Weak  "
      ]
     },
     "execution_count": 104,
     "metadata": {},
     "output_type": "execute_result"
    }
   ],
   "source": [
    "df.mode()"
   ]
  },
  {
   "cell_type": "markdown",
   "id": "393baf0c-dd9c-419f-b548-d879a9bd6a57",
   "metadata": {},
   "source": [
    "## Inter Quartile Range(IQR)"
   ]
  },
  {
   "cell_type": "code",
   "execution_count": 105,
   "id": "a7e7401b-6d98-4e00-9162-babc676a6a36",
   "metadata": {},
   "outputs": [
    {
     "name": "stdout",
     "output_type": "stream",
     "text": [
      "IQR of Age : 23\n",
      "IQR of Height_CM : 12\n",
      "IQR of Weight_KG : 17\n",
      "IQR of Body_Fat : 10\n",
      "IQR of Diastolic : 15\n",
      "IQR of Systolic : 21\n",
      "IQR of Grip_Force : 17\n",
      "IQR of Sit_and_BendForward_CM : 9\n",
      "IQR of Sit_Up_Counts : 20\n",
      "IQR of Broad_Jump_CM : 59\n"
     ]
    }
   ],
   "source": [
    "for col in numeric_data.columns:\n",
    "    Q1 = df[col].quantile(.25)\n",
    "    Q3 = df[col].quantile(.75)\n",
    "    IQR = Q3 - Q1\n",
    "    print('IQR of %s : %d' %(col,IQR))"
   ]
  },
  {
   "cell_type": "markdown",
   "id": "6daa0ebe-cc67-48e8-bc5c-ad8574098b62",
   "metadata": {},
   "source": [
    "## Range"
   ]
  },
  {
   "cell_type": "code",
   "execution_count": 106,
   "id": "4bfbda35-88b1-4961-87f0-0ff8b79d17da",
   "metadata": {},
   "outputs": [
    {
     "name": "stdout",
     "output_type": "stream",
     "text": [
      "<class 'pandas.core.frame.DataFrame'>\n",
      "RangeIndex: 13392 entries, 0 to 13391\n",
      "Data columns (total 10 columns):\n",
      " #   Column                  Non-Null Count  Dtype  \n",
      "---  ------                  --------------  -----  \n",
      " 0   Age                     13392 non-null  int64  \n",
      " 1   Height_CM               13392 non-null  float64\n",
      " 2   Weight_KG               13392 non-null  float64\n",
      " 3   Body_Fat                13392 non-null  float64\n",
      " 4   Diastolic               13392 non-null  int64  \n",
      " 5   Systolic                13392 non-null  int64  \n",
      " 6   Grip_Force              13392 non-null  float64\n",
      " 7   Sit_and_BendForward_CM  13392 non-null  float64\n",
      " 8   Sit_Up_Counts           13392 non-null  int64  \n",
      " 9   Broad_Jump_CM           13392 non-null  int64  \n",
      "dtypes: float64(5), int64(5)\n",
      "memory usage: 1.0 MB\n"
     ]
    }
   ],
   "source": [
    "numeric_data.info()"
   ]
  },
  {
   "cell_type": "code",
   "execution_count": 107,
   "id": "630f10db-e929-4bbe-a771-ef3cd1df42fb",
   "metadata": {},
   "outputs": [
    {
     "name": "stdout",
     "output_type": "stream",
     "text": [
      "range of Age : 43\n",
      "range of Height_CM : 68\n",
      "range of Weight_KG : 111\n",
      "range of Body_Fat : 75\n",
      "range of Diastolic : 156\n",
      "range of Systolic : 201\n",
      "range of Grip_Force : 70\n",
      "range of Sit_and_BendForward_CM : 238\n",
      "range of Sit_Up_Counts : 80\n",
      "range of Broad_Jump_CM : 303\n"
     ]
    }
   ],
   "source": [
    "for col in numeric_data.columns:\n",
    "    range = df[col].max() - df[col].min()\n",
    "    print('range of %s : %d'%(col,range))"
   ]
  },
  {
   "cell_type": "markdown",
   "id": "9e5bb275-7219-4dff-a3a7-eb87d0e6f60c",
   "metadata": {},
   "source": [
    "## Confiedence Interval:"
   ]
  },
  {
   "cell_type": "code",
   "execution_count": 108,
   "id": "b7cf6a0b-64c6-4066-b6fb-2a143bf41935",
   "metadata": {},
   "outputs": [
    {
     "data": {
      "text/plain": [
       "<Axes: xlabel='Weight_KG', ylabel='Height_CM'>"
      ]
     },
     "execution_count": 108,
     "metadata": {},
     "output_type": "execute_result"
    },
    {
     "data": {
      "image/png": "[encoded data removed]",
      "text/plain": [
       "<Figure size 640x480 with 1 Axes>"
      ]
     },
     "metadata": {},
     "output_type": "display_data"
    }
   ],
   "source": [
    "import seaborn as sns\n",
    "sns.regplot(data = df, x=\"Weight_KG\", y=\"Height_CM\", ci=95)"
   ]
  },
  {
   "cell_type": "code",
   "execution_count": 109,
   "id": "28ea0a8e-3361-49ff-8692-b82d4acf1870",
   "metadata": {},
   "outputs": [],
   "source": [
    "#Method to calculate C.I\n",
    "import numpy as np\n",
    "import scipy.stats\n",
    "\n",
    "\n",
    "def mean_confidence_interval(data, confidence=0.95):\n",
    "    a = 1.0 * np.array(data)\n",
    "    n = len(a)\n",
    "    m, se = np.mean(a), scipy.stats.sem(a)\n",
    "    h = se * scipy.stats.t.ppf((1 + confidence) / 2., n-1)\n",
    "    return m, m-h, m+h"
   ]
  },
  {
   "cell_type": "code",
   "execution_count": 110,
   "id": "5b49449d-d648-41a3-b8a8-f3b5ce6a1780",
   "metadata": {},
   "outputs": [
    {
     "data": {
      "text/plain": [
       "(36.77583632019116, 36.54503972923539, 37.00663291114693)"
      ]
     },
     "execution_count": 110,
     "metadata": {},
     "output_type": "execute_result"
    }
   ],
   "source": [
    "mean_confidence_interval(df['Age'], confidence=0.95)"
   ]
  },
  {
   "cell_type": "markdown",
   "id": "15283f7d-1be5-4397-be3a-7649ef5dc779",
   "metadata": {},
   "source": [
    "## Z-Score"
   ]
  },
  {
   "cell_type": "code",
   "execution_count": 111,
   "id": "2887584c-32ee-4f8e-bc3e-1f4ff4fa11ac",
   "metadata": {},
   "outputs": [
    {
     "data": {
      "text/html": [
       "<div>\n",
       "<style scoped>\n",
       "    .dataframe tbody tr th:only-of-type {\n",
       "        vertical-align: middle;\n",
       "    }\n",
       "\n",
       "    .dataframe tbody tr th {\n",
       "        vertical-align: top;\n",
       "    }\n",
       "\n",
       "    .dataframe thead th {\n",
       "        text-align: right;\n",
       "    }\n",
       "</style>\n",
       "<table border=\"1\" class=\"dataframe\">\n",
       "  <thead>\n",
       "    <tr style=\"text-align: right;\">\n",
       "      <th></th>\n",
       "      <th>Age</th>\n",
       "      <th>Height_CM</th>\n",
       "      <th>Weight_KG</th>\n",
       "      <th>Body_Fat</th>\n",
       "      <th>Diastolic</th>\n",
       "      <th>Systolic</th>\n",
       "      <th>Grip_Force</th>\n",
       "      <th>Sit_and_BendForward_CM</th>\n",
       "      <th>Sit_Up_Counts</th>\n",
       "      <th>Broad_Jump_CM</th>\n",
       "    </tr>\n",
       "  </thead>\n",
       "  <tbody>\n",
       "    <tr>\n",
       "      <th>0</th>\n",
       "      <td>-0.717473</td>\n",
       "      <td>0.443785</td>\n",
       "      <td>0.652068</td>\n",
       "      <td>-0.267290</td>\n",
       "      <td>0.111955</td>\n",
       "      <td>-0.016184</td>\n",
       "      <td>1.688110</td>\n",
       "      <td>0.377347</td>\n",
       "      <td>1.416990</td>\n",
       "      <td>0.673949</td>\n",
       "    </tr>\n",
       "    <tr>\n",
       "      <th>1</th>\n",
       "      <td>-0.864258</td>\n",
       "      <td>-0.422582</td>\n",
       "      <td>-0.974898</td>\n",
       "      <td>-1.039006</td>\n",
       "      <td>-0.167331</td>\n",
       "      <td>-0.288119</td>\n",
       "      <td>-0.053138</td>\n",
       "      <td>0.129020</td>\n",
       "      <td>0.926674</td>\n",
       "      <td>0.974946</td>\n",
       "    </tr>\n",
       "    <tr>\n",
       "      <th>2</th>\n",
       "      <td>-0.423903</td>\n",
       "      <td>1.310152</td>\n",
       "      <td>0.883058</td>\n",
       "      <td>-0.432658</td>\n",
       "      <td>1.229097</td>\n",
       "      <td>1.479460</td>\n",
       "      <td>0.737483</td>\n",
       "      <td>-0.379460</td>\n",
       "      <td>0.646494</td>\n",
       "      <td>-0.229042</td>\n",
       "    </tr>\n",
       "    <tr>\n",
       "      <th>3</th>\n",
       "      <td>-0.350510</td>\n",
       "      <td>0.704882</td>\n",
       "      <td>0.305585</td>\n",
       "      <td>-0.666929</td>\n",
       "      <td>-0.260426</td>\n",
       "      <td>1.139541</td>\n",
       "      <td>0.417470</td>\n",
       "      <td>-0.001056</td>\n",
       "      <td>0.926674</td>\n",
       "      <td>0.724115</td>\n",
       "    </tr>\n",
       "    <tr>\n",
       "      <th>4</th>\n",
       "      <td>-0.644080</td>\n",
       "      <td>0.621806</td>\n",
       "      <td>0.021033</td>\n",
       "      <td>-0.846077</td>\n",
       "      <td>-0.818997</td>\n",
       "      <td>-0.220135</td>\n",
       "      <td>0.615125</td>\n",
       "      <td>1.406131</td>\n",
       "      <td>0.366314</td>\n",
       "      <td>0.673949</td>\n",
       "    </tr>\n",
       "    <tr>\n",
       "      <th>...</th>\n",
       "      <td>...</td>\n",
       "      <td>...</td>\n",
       "      <td>...</td>\n",
       "      <td>...</td>\n",
       "      <td>...</td>\n",
       "      <td>...</td>\n",
       "      <td>...</td>\n",
       "      <td>...</td>\n",
       "      <td>...</td>\n",
       "      <td>...</td>\n",
       "    </tr>\n",
       "    <tr>\n",
       "      <th>13387</th>\n",
       "      <td>-0.864258</td>\n",
       "      <td>0.420049</td>\n",
       "      <td>0.364169</td>\n",
       "      <td>-0.970103</td>\n",
       "      <td>-0.446617</td>\n",
       "      <td>0.731638</td>\n",
       "      <td>-0.109611</td>\n",
       "      <td>0.259096</td>\n",
       "      <td>0.506404</td>\n",
       "      <td>0.197370</td>\n",
       "    </tr>\n",
       "    <tr>\n",
       "      <th>13388</th>\n",
       "      <td>-1.157827</td>\n",
       "      <td>1.322020</td>\n",
       "      <td>-0.296996</td>\n",
       "      <td>-1.535109</td>\n",
       "      <td>-0.446617</td>\n",
       "      <td>-0.152151</td>\n",
       "      <td>-0.373151</td>\n",
       "      <td>-1.668395</td>\n",
       "      <td>0.576449</td>\n",
       "      <td>-0.580206</td>\n",
       "    </tr>\n",
       "    <tr>\n",
       "      <th>13389</th>\n",
       "      <td>0.163237</td>\n",
       "      <td>1.025319</td>\n",
       "      <td>1.092287</td>\n",
       "      <td>-0.432658</td>\n",
       "      <td>-0.074236</td>\n",
       "      <td>0.119784</td>\n",
       "      <td>2.497555</td>\n",
       "      <td>0.140845</td>\n",
       "      <td>0.366314</td>\n",
       "      <td>0.974946</td>\n",
       "    </tr>\n",
       "    <tr>\n",
       "      <th>13390</th>\n",
       "      <td>1.998048</td>\n",
       "      <td>-2.665642</td>\n",
       "      <td>-0.815884</td>\n",
       "      <td>2.364812</td>\n",
       "      <td>-1.005188</td>\n",
       "      <td>-0.628038</td>\n",
       "      <td>-1.662616</td>\n",
       "      <td>-0.710562</td>\n",
       "      <td>-2.785714</td>\n",
       "      <td>-2.887850</td>\n",
       "    </tr>\n",
       "    <tr>\n",
       "      <th>13391</th>\n",
       "      <td>-0.203725</td>\n",
       "      <td>-0.541262</td>\n",
       "      <td>-0.112874</td>\n",
       "      <td>-0.515342</td>\n",
       "      <td>0.298145</td>\n",
       "      <td>1.343493</td>\n",
       "      <td>-0.100199</td>\n",
       "      <td>-0.958889</td>\n",
       "      <td>0.786584</td>\n",
       "      <td>-0.254126</td>\n",
       "    </tr>\n",
       "  </tbody>\n",
       "</table>\n",
       "<p>13392 rows × 10 columns</p>\n",
       "</div>"
      ],
      "text/plain": [
       "            Age  Height_CM  Weight_KG  Body_Fat  Diastolic  Systolic  \\\n",
       "0     -0.717473   0.443785   0.652068 -0.267290   0.111955 -0.016184   \n",
       "1     -0.864258  -0.422582  -0.974898 -1.039006  -0.167331 -0.288119   \n",
       "2     -0.423903   1.310152   0.883058 -0.432658   1.229097  1.479460   \n",
       "3     -0.350510   0.704882   0.305585 -0.666929  -0.260426  1.139541   \n",
       "4     -0.644080   0.621806   0.021033 -0.846077  -0.818997 -0.220135   \n",
       "...         ...        ...        ...       ...        ...       ...   \n",
       "13387 -0.864258   0.420049   0.364169 -0.970103  -0.446617  0.731638   \n",
       "13388 -1.157827   1.322020  -0.296996 -1.535109  -0.446617 -0.152151   \n",
       "13389  0.163237   1.025319   1.092287 -0.432658  -0.074236  0.119784   \n",
       "13390  1.998048  -2.665642  -0.815884  2.364812  -1.005188 -0.628038   \n",
       "13391 -0.203725  -0.541262  -0.112874 -0.515342   0.298145  1.343493   \n",
       "\n",
       "       Grip_Force  Sit_and_BendForward_CM  Sit_Up_Counts  Broad_Jump_CM  \n",
       "0        1.688110                0.377347       1.416990       0.673949  \n",
       "1       -0.053138                0.129020       0.926674       0.974946  \n",
       "2        0.737483               -0.379460       0.646494      -0.229042  \n",
       "3        0.417470               -0.001056       0.926674       0.724115  \n",
       "4        0.615125                1.406131       0.366314       0.673949  \n",
       "...           ...                     ...            ...            ...  \n",
       "13387   -0.109611                0.259096       0.506404       0.197370  \n",
       "13388   -0.373151               -1.668395       0.576449      -0.580206  \n",
       "13389    2.497555                0.140845       0.366314       0.974946  \n",
       "13390   -1.662616               -0.710562      -2.785714      -2.887850  \n",
       "13391   -0.100199               -0.958889       0.786584      -0.254126  \n",
       "\n",
       "[13392 rows x 10 columns]"
      ]
     },
     "execution_count": 111,
     "metadata": {},
     "output_type": "execute_result"
    }
   ],
   "source": [
    "import scipy.stats as stats\n",
    "z_scores = stats.zscore(numeric_data)\n",
    "z_scores"
   ]
  },
  {
   "cell_type": "markdown",
   "id": "fa37335a-36bc-4e30-82b2-66d4d489537e",
   "metadata": {},
   "source": [
    "## P_Value"
   ]
  },
  {
   "cell_type": "code",
   "execution_count": 112,
   "id": "af2ae11a-96ed-49de-a776-284bf77cc820",
   "metadata": {},
   "outputs": [
    {
     "data": {
      "text/plain": [
       "(0.23668704832971305,\n",
       " array([[0.23654124, 0.32859896, 0.25717852, ..., 0.35295792, 0.07824293,\n",
       "         0.25017188],\n",
       "        [0.1937232 , 0.33630019, 0.16480532, ..., 0.448671  , 0.17704779,\n",
       "         0.1647935 ],\n",
       "        [0.33581834, 0.09507218, 0.18860259, ..., 0.35217332, 0.25897967,\n",
       "         0.40941796],\n",
       "        ...,\n",
       "        [0.43516598, 0.15260631, 0.13735352, ..., 0.44399625, 0.35706541,\n",
       "         0.1647935 ],\n",
       "        [0.02285571, 0.00384208, 0.20728318, ..., 0.23867774, 0.0026705 ,\n",
       "         0.00193942],\n",
       "        [0.41928402, 0.29416342, 0.4550653 , ..., 0.16880722, 0.21576261,\n",
       "         0.39969929]]),\n",
       " array([[0.47308248, 0.65719792, 0.51435703, ..., 0.70591584, 0.15648587,\n",
       "         0.50034376],\n",
       "        [0.38744639, 0.67260038, 0.32961063, ..., 0.897342  , 0.35409557,\n",
       "         0.32958699],\n",
       "        [0.67163667, 0.19014437, 0.37720518, ..., 0.70434665, 0.51795935,\n",
       "         0.81883593],\n",
       "        ...,\n",
       "        [0.87033196, 0.30521262, 0.27470705, ..., 0.88799249, 0.71413083,\n",
       "         0.32958699],\n",
       "        [0.04571142, 0.00768416, 0.41456637, ..., 0.47735549, 0.005341  ,\n",
       "         0.00387884],\n",
       "        [0.83856805, 0.58832683, 0.91013059, ..., 0.33761444, 0.43152523,\n",
       "         0.79939857]]))"
      ]
     },
     "execution_count": 112,
     "metadata": {},
     "output_type": "execute_result"
    }
   ],
   "source": [
    "p_values_1 = scipy.stats.norm.sf(abs(-0.717))#left-tailed\n",
    "\n",
    "p_values_2 = scipy.stats.norm.sf(abs(z_scores)) #right-tailed\n",
    "\n",
    "p_values_3 = scipy.stats.norm.sf(abs(z_scores))*2 #two-tailed\n",
    "\n",
    "p_values_1, p_values_2, p_values_3"
   ]
  },
  {
   "cell_type": "code",
   "execution_count": 113,
   "id": "9fae2674-d33e-458f-83d9-981f9db2631d",
   "metadata": {},
   "outputs": [
    {
     "data": {
      "text/plain": [
       "0.2578461108058647"
      ]
     },
     "execution_count": 113,
     "metadata": {},
     "output_type": "execute_result"
    }
   ],
   "source": [
    "#Example to understand easily:\n",
    "scipy.stats.norm.sf(abs(0.65))"
   ]
  },
  {
   "cell_type": "markdown",
   "id": "6aadeed8-7981-41bb-a803-f44db6867bb9",
   "metadata": {},
   "source": [
    "## T_Test"
   ]
  },
  {
   "cell_type": "code",
   "execution_count": 114,
   "id": "54864357-8429-4b65-aa35-45223ce0b82c",
   "metadata": {},
   "outputs": [
    {
     "name": "stdout",
     "output_type": "stream",
     "text": [
      "Requirement already satisfied: researchpy in c:\\users\\user\\anaconda3\\lib\\site-packages (0.3.6)\n",
      "Requirement already satisfied: scipy in c:\\users\\user\\anaconda3\\lib\\site-packages (from researchpy) (1.10.1)\n",
      "Requirement already satisfied: numpy in c:\\users\\user\\anaconda3\\lib\\site-packages (from researchpy) (1.24.4)\n",
      "Requirement already satisfied: pandas in c:\\users\\user\\anaconda3\\lib\\site-packages (from researchpy) (1.5.3)\n",
      "Requirement already satisfied: statsmodels in c:\\users\\user\\anaconda3\\lib\\site-packages (from researchpy) (0.14.0)\n",
      "Requirement already satisfied: patsy in c:\\users\\user\\anaconda3\\lib\\site-packages (from researchpy) (0.5.3)\n",
      "Requirement already satisfied: python-dateutil>=2.8.1 in c:\\users\\user\\anaconda3\\lib\\site-packages (from pandas->researchpy) (2.8.2)\n",
      "Requirement already satisfied: pytz>=2020.1 in c:\\users\\user\\anaconda3\\lib\\site-packages (from pandas->researchpy) (2023.3.post1)\n",
      "Requirement already satisfied: six in c:\\users\\user\\anaconda3\\lib\\site-packages (from patsy->researchpy) (1.16.0)\n",
      "Requirement already satisfied: packaging>=21.3 in c:\\users\\user\\anaconda3\\lib\\site-packages (from statsmodels->researchpy) (24.2)\n"
     ]
    },
    {
     "name": "stderr",
     "output_type": "stream",
     "text": [
      "WARNING: Ignoring invalid distribution ~andas (C:\\Users\\USER\\anaconda3\\Lib\\site-packages)\n",
      "WARNING: Ignoring invalid distribution ~andas (C:\\Users\\USER\\anaconda3\\Lib\\site-packages)\n",
      "WARNING: Ignoring invalid distribution ~andas (C:\\Users\\USER\\anaconda3\\Lib\\site-packages)\n"
     ]
    }
   ],
   "source": [
    "!pip install researchpy"
   ]
  },
  {
   "cell_type": "code",
   "execution_count": 115,
   "id": "b19be382-b5cd-4de9-8278-8bc9f526e5be",
   "metadata": {},
   "outputs": [
    {
     "data": {
      "text/plain": [
       "(   Variable        N       Mean        SD        SE  95% Conf.   Interval\n",
       " 0      Male   8467.0  20.188151  5.952703  0.064692  20.061339  20.314963\n",
       " 1    Female   4925.0  28.485636  6.225219  0.088706  28.311733  28.659538\n",
       " 2  combined  13392.0  23.239608  7.256829  0.062708  23.116691  23.362525,\n",
       "               Independent t-test     results\n",
       " 0  Difference (Male - Female) =      -8.2975\n",
       " 1          Degrees of freedom =   13390.0000\n",
       " 2                           t =     -76.4759\n",
       " 3       Two side test p value =       0.0000\n",
       " 4      Difference < 0 p value =       0.0000\n",
       " 5      Difference > 0 p value =       1.0000\n",
       " 6                   Cohen's d =      -1.3705\n",
       " 7                   Hedge's g =      -1.3704\n",
       " 8              Glass's delta1 =      -1.3939\n",
       " 9            Point-Biserial r =      -0.5514)"
      ]
     },
     "execution_count": 115,
     "metadata": {},
     "output_type": "execute_result"
    }
   ],
   "source": [
    "import researchpy as rp\n",
    "rp.ttest(group1= df['Body_Fat'][df['Gender'] == 'M'], group1_name= \"Male\",\n",
    "         group2= df['Body_Fat'][df['Gender'] == 'F'], group2_name= \"Female\")"
   ]
  },
  {
   "cell_type": "code",
   "execution_count": 116,
   "id": "1ce99523-864e-4130-9446-cbd2220c09a0",
   "metadata": {},
   "outputs": [
    {
     "data": {
      "text/plain": [
       "Ttest_indResult(statistic=-76.47589750264021, pvalue=0.0)"
      ]
     },
     "execution_count": 116,
     "metadata": {},
     "output_type": "execute_result"
    }
   ],
   "source": [
    "# Independent T-test using Scipy.stats\n",
    "stats.ttest_ind(df['Body_Fat'][df['Gender'] == 'M'],\n",
    "                df['Body_Fat'][df['Gender'] == 'F'])"
   ]
  },
  {
   "cell_type": "markdown",
   "id": "51580d57-3351-45cf-a4c0-9a9496385344",
   "metadata": {},
   "source": [
    "## Anova Test"
   ]
  },
  {
   "cell_type": "code",
   "execution_count": 117,
   "id": "75c0d244-d031-4875-b469-720648cceedf",
   "metadata": {},
   "outputs": [
    {
     "name": "stdout",
     "output_type": "stream",
     "text": [
      "F_onewayResult(statistic=50207.080228084036, pvalue=0.0)\n"
     ]
    }
   ],
   "source": [
    "# One way anova\n",
    "from scipy.stats import f_oneway\n",
    "class1 = df['Weight_KG']\n",
    "class2 = df['Body_Fat']\n",
    "class3 = df['Sit_Up_Counts'] \n",
    "print(f_oneway(class1, class2, class3))"
   ]
  },
  {
   "cell_type": "code",
   "execution_count": 118,
   "id": "9bbc9639-f0a1-41ac-959b-95bab7ad92b8",
   "metadata": {},
   "outputs": [
    {
     "data": {
      "text/plain": [
       "<Axes: >"
      ]
     },
     "execution_count": 118,
     "metadata": {},
     "output_type": "execute_result"
    },
    {
     "data": {
      "image/png": "[encoded data removed]",
      "text/plain": [
       "<Figure size 2000x1000 with 1 Axes>"
      ]
     },
     "metadata": {},
     "output_type": "display_data"
    }
   ],
   "source": [
    "#Boxlot can plot outliers in data\n",
    "import matplotlib.pyplot as plt\n",
    "plt.figure(figsize = (20, 10))\n",
    "sns.boxplot(data = df)"
   ]
  },
  {
   "cell_type": "markdown",
   "id": "b7a62d9a-5c67-4e86-bfe2-61bd6cb9deb4",
   "metadata": {},
   "source": [
    "## Removing Outliers using IQR"
   ]
  },
  {
   "cell_type": "code",
   "execution_count": null,
   "id": "8eace7ae-adf1-4692-969f-6edfa27e5cf2",
   "metadata": {},
   "outputs": [
    {
     "data": {
      "image/png": "[encoded data removed]",
      "text/plain": [
       "<Figure size 640x480 with 1 Axes>"
      ]
     },
     "metadata": {},
     "output_type": "display_data"
    }
   ],
   "source": [
    "#Take an example by removing outliers in 'systolic' column:\n",
    "sns.boxplot(df['Systolic'])\n",
    "plt.title('Boxplot before removing Outliers')\n",
    "plt.show()"
   ]
  },
  {
   "cell_type": "code",
   "execution_count": 120,
   "id": "528639b7-b6c9-4ede-9b0e-9a9b5bb1a084",
   "metadata": {},
   "outputs": [
    {
     "data": {
      "image/png": "[encoded data removed]",
      "text/plain": [
       "<Figure size 640x480 with 1 Axes>"
      ]
     },
     "metadata": {},
     "output_type": "display_data"
    }
   ],
   "source": [
    "#removing Outliers\n",
    "for i in df['Systolic']:\n",
    "    q1 = df['Systolic'].quantile(0.25)\n",
    "    q3 = df['Systolic'].quantile(0.75)\n",
    "    iqr = q3-q1\n",
    "    lower_tail = q1 - 1.5*iqr\n",
    "    upper_tail = q3 + 1.5*iqr\n",
    "    \n",
    "    if i>upper_tail or i<lower_tail:\n",
    "        df['Systolic'] = df['Systolic'].replace(i,0)\n",
    "        \n",
    "sns.boxplot(df['Systolic'])\n",
    "plt.title('Boxplot after removing Outliers')\n",
    "plt.show()"
   ]
  },
  {
   "cell_type": "markdown",
   "id": "0fcdc833-cb24-4d6c-ba12-bf923592d958",
   "metadata": {},
   "source": [
    "## Histograms"
   ]
  },
  {
   "cell_type": "code",
   "execution_count": 121,
   "id": "0f57bbf1-b024-415c-ae1c-74967a340cc7",
   "metadata": {},
   "outputs": [
    {
     "name": "stderr",
     "output_type": "stream",
     "text": [
      "C:\\Users\\USER\\AppData\\Local\\Temp\\ipykernel_3764\\1007613378.py:1: UserWarning: \n",
      "\n",
      "`distplot` is a deprecated function and will be removed in seaborn v0.14.0.\n",
      "\n",
      "Please adapt your code to use either `displot` (a figure-level function with\n",
      "similar flexibility) or `histplot` (an axes-level function for histograms).\n",
      "\n",
      "For a guide to updating your code to use the new functions, please see\n",
      "https://gist.github.com/mwaskom/de44147ed2974457ad6372750bbe5751\n",
      "\n",
      "  sns.distplot(df['Weight_KG'], hist=True, kde=True,\n"
     ]
    },
    {
     "data": {
      "text/plain": [
       "<Axes: xlabel='Weight_KG', ylabel='Density'>"
      ]
     },
     "execution_count": 121,
     "metadata": {},
     "output_type": "execute_result"
    },
    {
     "data": {
      "image/png": "[encoded data removed]",
      "text/plain": [
       "<Figure size 640x480 with 1 Axes>"
      ]
     },
     "metadata": {},
     "output_type": "display_data"
    }
   ],
   "source": [
    "sns.distplot(df['Weight_KG'], hist=True, kde=True, \n",
    "             bins=20, color = 'darkblue', \n",
    "             hist_kws={'edgecolor':'black'},\n",
    "             kde_kws={'linewidth': 4})"
   ]
  },
  {
   "cell_type": "code",
   "execution_count": null,
   "id": "fe8753b0-9c63-4246-abb7-6c2c72679848",
   "metadata": {},
   "outputs": [],
   "source": []
  },
  {
   "cell_type": "code",
   "execution_count": 122,
   "id": "15ac9e02-fad9-40e8-a9aa-c6e1adf966a4",
   "metadata": {},
   "outputs": [
    {
     "data": {
      "text/plain": [
       "(13392, 12)"
      ]
     },
     "execution_count": 122,
     "metadata": {},
     "output_type": "execute_result"
    }
   ],
   "source": [
    "df.shape"
   ]
  },
  {
   "cell_type": "code",
   "execution_count": 123,
   "id": "3b686ebe-eaed-4b05-b964-5811161de8bc",
   "metadata": {},
   "outputs": [
    {
     "data": {
      "text/html": [
       "<div>\n",
       "<style scoped>\n",
       "    .dataframe tbody tr th:only-of-type {\n",
       "        vertical-align: middle;\n",
       "    }\n",
       "\n",
       "    .dataframe tbody tr th {\n",
       "        vertical-align: top;\n",
       "    }\n",
       "\n",
       "    .dataframe thead th {\n",
       "        text-align: right;\n",
       "    }\n",
       "</style>\n",
       "<table border=\"1\" class=\"dataframe\">\n",
       "  <thead>\n",
       "    <tr style=\"text-align: right;\">\n",
       "      <th></th>\n",
       "      <th>Age</th>\n",
       "      <th>Height_CM</th>\n",
       "      <th>Weight_KG</th>\n",
       "      <th>Body_Fat</th>\n",
       "      <th>Diastolic</th>\n",
       "      <th>Systolic</th>\n",
       "      <th>Grip_Force</th>\n",
       "      <th>Sit_and_BendForward_CM</th>\n",
       "      <th>Sit_Up_Counts</th>\n",
       "      <th>Broad_Jump_CM</th>\n",
       "    </tr>\n",
       "  </thead>\n",
       "  <tbody>\n",
       "    <tr>\n",
       "      <th>count</th>\n",
       "      <td>13392.000000</td>\n",
       "      <td>13392.000000</td>\n",
       "      <td>13392.000000</td>\n",
       "      <td>13392.000000</td>\n",
       "      <td>13392.000000</td>\n",
       "      <td>13392.000000</td>\n",
       "      <td>13392.000000</td>\n",
       "      <td>13392.000000</td>\n",
       "      <td>13392.000000</td>\n",
       "      <td>13392.000000</td>\n",
       "    </tr>\n",
       "    <tr>\n",
       "      <th>mean</th>\n",
       "      <td>36.775836</td>\n",
       "      <td>168.560671</td>\n",
       "      <td>67.448686</td>\n",
       "      <td>23.239608</td>\n",
       "      <td>78.797416</td>\n",
       "      <td>129.941084</td>\n",
       "      <td>36.964569</td>\n",
       "      <td>15.208933</td>\n",
       "      <td>39.770311</td>\n",
       "      <td>190.131347</td>\n",
       "    </tr>\n",
       "    <tr>\n",
       "      <th>std</th>\n",
       "      <td>13.625886</td>\n",
       "      <td>8.426305</td>\n",
       "      <td>11.949061</td>\n",
       "      <td>7.256829</td>\n",
       "      <td>10.742092</td>\n",
       "      <td>15.611654</td>\n",
       "      <td>10.624959</td>\n",
       "      <td>8.456904</td>\n",
       "      <td>14.277056</td>\n",
       "      <td>39.868977</td>\n",
       "    </tr>\n",
       "    <tr>\n",
       "      <th>min</th>\n",
       "      <td>21.000000</td>\n",
       "      <td>125.000000</td>\n",
       "      <td>26.300000</td>\n",
       "      <td>3.000000</td>\n",
       "      <td>0.000000</td>\n",
       "      <td>0.000000</td>\n",
       "      <td>0.000000</td>\n",
       "      <td>-25.000000</td>\n",
       "      <td>0.000000</td>\n",
       "      <td>0.000000</td>\n",
       "    </tr>\n",
       "    <tr>\n",
       "      <th>25%</th>\n",
       "      <td>25.000000</td>\n",
       "      <td>162.400000</td>\n",
       "      <td>58.200000</td>\n",
       "      <td>18.000000</td>\n",
       "      <td>71.000000</td>\n",
       "      <td>120.000000</td>\n",
       "      <td>27.500000</td>\n",
       "      <td>10.900000</td>\n",
       "      <td>30.000000</td>\n",
       "      <td>162.000000</td>\n",
       "    </tr>\n",
       "    <tr>\n",
       "      <th>50%</th>\n",
       "      <td>32.000000</td>\n",
       "      <td>169.200000</td>\n",
       "      <td>67.400000</td>\n",
       "      <td>22.800000</td>\n",
       "      <td>79.000000</td>\n",
       "      <td>130.000000</td>\n",
       "      <td>37.900000</td>\n",
       "      <td>16.200000</td>\n",
       "      <td>41.000000</td>\n",
       "      <td>193.000000</td>\n",
       "    </tr>\n",
       "    <tr>\n",
       "      <th>75%</th>\n",
       "      <td>48.000000</td>\n",
       "      <td>174.800000</td>\n",
       "      <td>75.300000</td>\n",
       "      <td>28.000000</td>\n",
       "      <td>86.000000</td>\n",
       "      <td>141.000000</td>\n",
       "      <td>45.200000</td>\n",
       "      <td>20.700000</td>\n",
       "      <td>50.000000</td>\n",
       "      <td>221.000000</td>\n",
       "    </tr>\n",
       "    <tr>\n",
       "      <th>max</th>\n",
       "      <td>64.000000</td>\n",
       "      <td>193.800000</td>\n",
       "      <td>138.100000</td>\n",
       "      <td>78.400000</td>\n",
       "      <td>156.000000</td>\n",
       "      <td>171.000000</td>\n",
       "      <td>70.500000</td>\n",
       "      <td>213.000000</td>\n",
       "      <td>80.000000</td>\n",
       "      <td>303.000000</td>\n",
       "    </tr>\n",
       "  </tbody>\n",
       "</table>\n",
       "</div>"
      ],
      "text/plain": [
       "                Age     Height_CM     Weight_KG      Body_Fat     Diastolic  \\\n",
       "count  13392.000000  13392.000000  13392.000000  13392.000000  13392.000000   \n",
       "mean      36.775836    168.560671     67.448686     23.239608     78.797416   \n",
       "std       13.625886      8.426305     11.949061      7.256829     10.742092   \n",
       "min       21.000000    125.000000     26.300000      3.000000      0.000000   \n",
       "25%       25.000000    162.400000     58.200000     18.000000     71.000000   \n",
       "50%       32.000000    169.200000     67.400000     22.800000     79.000000   \n",
       "75%       48.000000    174.800000     75.300000     28.000000     86.000000   \n",
       "max       64.000000    193.800000    138.100000     78.400000    156.000000   \n",
       "\n",
       "           Systolic    Grip_Force  Sit_and_BendForward_CM  Sit_Up_Counts  \\\n",
       "count  13392.000000  13392.000000            13392.000000   13392.000000   \n",
       "mean     129.941084     36.964569               15.208933      39.770311   \n",
       "std       15.611654     10.624959                8.456904      14.277056   \n",
       "min        0.000000      0.000000              -25.000000       0.000000   \n",
       "25%      120.000000     27.500000               10.900000      30.000000   \n",
       "50%      130.000000     37.900000               16.200000      41.000000   \n",
       "75%      141.000000     45.200000               20.700000      50.000000   \n",
       "max      171.000000     70.500000              213.000000      80.000000   \n",
       "\n",
       "       Broad_Jump_CM  \n",
       "count   13392.000000  \n",
       "mean      190.131347  \n",
       "std        39.868977  \n",
       "min         0.000000  \n",
       "25%       162.000000  \n",
       "50%       193.000000  \n",
       "75%       221.000000  \n",
       "max       303.000000  "
      ]
     },
     "execution_count": 123,
     "metadata": {},
     "output_type": "execute_result"
    }
   ],
   "source": [
    "df.describe()"
   ]
  },
  {
   "cell_type": "code",
   "execution_count": null,
   "id": "852a2d05-1c20-4af5-a477-7271fcf7c3ab",
   "metadata": {},
   "outputs": [],
   "source": [
    "df[\"Sit_and_BendForward_CM\"] = [0 if ai < 0 else i for i in df[\"Sit_and_BendForward_CM\"]]"
   ]
  },
  {
   "cell_type": "code",
   "execution_count": 125,
   "id": "c39f7955-d5d7-4774-97af-9bdfef854b85",
   "metadata": {},
   "outputs": [
    {
     "data": {
      "text/html": [
       "<div>\n",
       "<style scoped>\n",
       "    .dataframe tbody tr th:only-of-type {\n",
       "        vertical-align: middle;\n",
       "    }\n",
       "\n",
       "    .dataframe tbody tr th {\n",
       "        vertical-align: top;\n",
       "    }\n",
       "\n",
       "    .dataframe thead th {\n",
       "        text-align: right;\n",
       "    }\n",
       "</style>\n",
       "<table border=\"1\" class=\"dataframe\">\n",
       "  <thead>\n",
       "    <tr style=\"text-align: right;\">\n",
       "      <th></th>\n",
       "      <th>Age</th>\n",
       "      <th>Height_CM</th>\n",
       "      <th>Weight_KG</th>\n",
       "      <th>Body_Fat</th>\n",
       "      <th>Diastolic</th>\n",
       "      <th>Systolic</th>\n",
       "      <th>Grip_Force</th>\n",
       "      <th>Sit_and_BendForward_CM</th>\n",
       "      <th>Sit_Up_Counts</th>\n",
       "      <th>Broad_Jump_CM</th>\n",
       "    </tr>\n",
       "  </thead>\n",
       "  <tbody>\n",
       "    <tr>\n",
       "      <th>count</th>\n",
       "      <td>13392.000000</td>\n",
       "      <td>13392.000000</td>\n",
       "      <td>13392.000000</td>\n",
       "      <td>13392.000000</td>\n",
       "      <td>13392.000000</td>\n",
       "      <td>13392.000000</td>\n",
       "      <td>13392.000000</td>\n",
       "      <td>13392.000000</td>\n",
       "      <td>13392.000000</td>\n",
       "      <td>13392.000000</td>\n",
       "    </tr>\n",
       "    <tr>\n",
       "      <th>mean</th>\n",
       "      <td>36.775836</td>\n",
       "      <td>168.560671</td>\n",
       "      <td>67.448686</td>\n",
       "      <td>23.239608</td>\n",
       "      <td>78.797416</td>\n",
       "      <td>129.941084</td>\n",
       "      <td>36.964569</td>\n",
       "      <td>15.512699</td>\n",
       "      <td>39.770311</td>\n",
       "      <td>190.131347</td>\n",
       "    </tr>\n",
       "    <tr>\n",
       "      <th>std</th>\n",
       "      <td>13.625886</td>\n",
       "      <td>8.426305</td>\n",
       "      <td>11.949061</td>\n",
       "      <td>7.256829</td>\n",
       "      <td>10.742092</td>\n",
       "      <td>15.611654</td>\n",
       "      <td>10.624959</td>\n",
       "      <td>7.689768</td>\n",
       "      <td>14.277056</td>\n",
       "      <td>39.868977</td>\n",
       "    </tr>\n",
       "    <tr>\n",
       "      <th>min</th>\n",
       "      <td>21.000000</td>\n",
       "      <td>125.000000</td>\n",
       "      <td>26.300000</td>\n",
       "      <td>3.000000</td>\n",
       "      <td>0.000000</td>\n",
       "      <td>0.000000</td>\n",
       "      <td>0.000000</td>\n",
       "      <td>0.000000</td>\n",
       "      <td>0.000000</td>\n",
       "      <td>0.000000</td>\n",
       "    </tr>\n",
       "    <tr>\n",
       "      <th>25%</th>\n",
       "      <td>25.000000</td>\n",
       "      <td>162.400000</td>\n",
       "      <td>58.200000</td>\n",
       "      <td>18.000000</td>\n",
       "      <td>71.000000</td>\n",
       "      <td>120.000000</td>\n",
       "      <td>27.500000</td>\n",
       "      <td>10.900000</td>\n",
       "      <td>30.000000</td>\n",
       "      <td>162.000000</td>\n",
       "    </tr>\n",
       "    <tr>\n",
       "      <th>50%</th>\n",
       "      <td>32.000000</td>\n",
       "      <td>169.200000</td>\n",
       "      <td>67.400000</td>\n",
       "      <td>22.800000</td>\n",
       "      <td>79.000000</td>\n",
       "      <td>130.000000</td>\n",
       "      <td>37.900000</td>\n",
       "      <td>16.200000</td>\n",
       "      <td>41.000000</td>\n",
       "      <td>193.000000</td>\n",
       "    </tr>\n",
       "    <tr>\n",
       "      <th>75%</th>\n",
       "      <td>48.000000</td>\n",
       "      <td>174.800000</td>\n",
       "      <td>75.300000</td>\n",
       "      <td>28.000000</td>\n",
       "      <td>86.000000</td>\n",
       "      <td>141.000000</td>\n",
       "      <td>45.200000</td>\n",
       "      <td>20.700000</td>\n",
       "      <td>50.000000</td>\n",
       "      <td>221.000000</td>\n",
       "    </tr>\n",
       "    <tr>\n",
       "      <th>max</th>\n",
       "      <td>64.000000</td>\n",
       "      <td>193.800000</td>\n",
       "      <td>138.100000</td>\n",
       "      <td>78.400000</td>\n",
       "      <td>156.000000</td>\n",
       "      <td>171.000000</td>\n",
       "      <td>70.500000</td>\n",
       "      <td>213.000000</td>\n",
       "      <td>80.000000</td>\n",
       "      <td>303.000000</td>\n",
       "    </tr>\n",
       "  </tbody>\n",
       "</table>\n",
       "</div>"
      ],
      "text/plain": [
       "                Age     Height_CM     Weight_KG      Body_Fat     Diastolic  \\\n",
       "count  13392.000000  13392.000000  13392.000000  13392.000000  13392.000000   \n",
       "mean      36.775836    168.560671     67.448686     23.239608     78.797416   \n",
       "std       13.625886      8.426305     11.949061      7.256829     10.742092   \n",
       "min       21.000000    125.000000     26.300000      3.000000      0.000000   \n",
       "25%       25.000000    162.400000     58.200000     18.000000     71.000000   \n",
       "50%       32.000000    169.200000     67.400000     22.800000     79.000000   \n",
       "75%       48.000000    174.800000     75.300000     28.000000     86.000000   \n",
       "max       64.000000    193.800000    138.100000     78.400000    156.000000   \n",
       "\n",
       "           Systolic    Grip_Force  Sit_and_BendForward_CM  Sit_Up_Counts  \\\n",
       "count  13392.000000  13392.000000            13392.000000   13392.000000   \n",
       "mean     129.941084     36.964569               15.512699      39.770311   \n",
       "std       15.611654     10.624959                7.689768      14.277056   \n",
       "min        0.000000      0.000000                0.000000       0.000000   \n",
       "25%      120.000000     27.500000               10.900000      30.000000   \n",
       "50%      130.000000     37.900000               16.200000      41.000000   \n",
       "75%      141.000000     45.200000               20.700000      50.000000   \n",
       "max      171.000000     70.500000              213.000000      80.000000   \n",
       "\n",
       "       Broad_Jump_CM  \n",
       "count   13392.000000  \n",
       "mean      190.131347  \n",
       "std        39.868977  \n",
       "min         0.000000  \n",
       "25%       162.000000  \n",
       "50%       193.000000  \n",
       "75%       221.000000  \n",
       "max       303.000000  "
      ]
     },
     "execution_count": 125,
     "metadata": {},
     "output_type": "execute_result"
    }
   ],
   "source": [
    "df.describe()"
   ]
  },
  {
   "cell_type": "markdown",
   "id": "2294fc7c-7fe4-4fb8-bbed-475d17f7e5a2",
   "metadata": {},
   "source": [
    "### Identify Missing values"
   ]
  },
  {
   "cell_type": "code",
   "execution_count": 126,
   "id": "f6bf250e-69c4-43d2-bb09-27b2edbe6723",
   "metadata": {},
   "outputs": [
    {
     "data": {
      "text/plain": [
       "Age                       0\n",
       "Gender                    0\n",
       "Height_CM                 0\n",
       "Weight_KG                 0\n",
       "Body_Fat                  0\n",
       "Diastolic                 0\n",
       "Systolic                  0\n",
       "Grip_Force                0\n",
       "Sit_and_BendForward_CM    0\n",
       "Sit_Up_Counts             0\n",
       "Broad_Jump_CM             0\n",
       "Performance               0\n",
       "dtype: int64"
      ]
     },
     "execution_count": 126,
     "metadata": {},
     "output_type": "execute_result"
    }
   ],
   "source": [
    "df.isnull().sum()"
   ]
  },
  {
   "cell_type": "markdown",
   "id": "f5b99d52-1fdf-420a-9043-d3043c7bb807",
   "metadata": {},
   "source": [
    "### Identify Duplicates"
   ]
  },
  {
   "cell_type": "code",
   "execution_count": 127,
   "id": "4112e31a-a9af-481e-b946-7ad074ad2517",
   "metadata": {},
   "outputs": [
    {
     "data": {
      "text/plain": [
       "0"
      ]
     },
     "execution_count": 127,
     "metadata": {},
     "output_type": "execute_result"
    }
   ],
   "source": [
    "df.drop_duplicates(inplace = True)\n",
    "\n",
    "df.duplicated().sum()"
   ]
  },
  {
   "cell_type": "markdown",
   "id": "3b38c0ad-779d-4590-9cba-530ec8ba23ba",
   "metadata": {},
   "source": [
    "## Relationship between weights and performance based on Gender"
   ]
  },
  {
   "cell_type": "code",
   "execution_count": 128,
   "id": "3429ea71-a22b-4142-b58d-5df1ad06c7d7",
   "metadata": {},
   "outputs": [
    {
     "data": {
      "image/png": "[encoded data removed]",
      "text/plain": [
       "<Figure size 640x480 with 1 Axes>"
      ]
     },
     "metadata": {},
     "output_type": "display_data"
    }
   ],
   "source": [
    "sns.boxplot(y=df[\"Weight_KG\"],x=df[\"Performance\"],hue=df[\"Gender\"])\n",
    "plt.show()"
   ]
  },
  {
   "cell_type": "code",
   "execution_count": 129,
   "id": "6f186c61-d7f0-4d70-bf73-a2e3ab79578b",
   "metadata": {},
   "outputs": [
    {
     "data": {
      "image/png": "[encoded data removed]",
      "text/plain": [
       "<Figure size 640x480 with 1 Axes>"
      ]
     },
     "metadata": {},
     "output_type": "display_data"
    }
   ],
   "source": [
    "sns.boxplot(y=df[\"Height_CM\"],x=df[\"Performance\"],hue=df[\"Gender\"])\n",
    "plt.show()"
   ]
  },
  {
   "cell_type": "markdown",
   "id": "329e2458-3036-44a1-b637-068c39b4a3bd",
   "metadata": {},
   "source": [
    "### Age vs Grip Force (Correlation Test)"
   ]
  },
  {
   "cell_type": "code",
   "execution_count": 130,
   "id": "bdeb77c9-1cd4-465e-a719-b75331d84707",
   "metadata": {},
   "outputs": [
    {
     "name": "stdout",
     "output_type": "stream",
     "text": [
      "Correlation Coefficient: -0.17963804063317532\n",
      "P-value: 1.614728751425462e-97\n",
      "Reject Null Hypothesis: Age influences Grip Force.\n"
     ]
    }
   ],
   "source": [
    "from scipy.stats import pearsonr\n",
    "\n",
    "age = df['Age']\n",
    "grip_force = df['Grip_Force']\n",
    "\n",
    "# Perform correlation test\n",
    "corr_coeff, p_value = pearsonr(age, grip_force)\n",
    "print(\"Correlation Coefficient:\", corr_coeff)\n",
    "print(\"P-value:\", p_value)\n",
    "\n",
    "if p_value < 0.05:\n",
    "    print(\"Reject Null Hypothesis: Age influences Grip Force.\")\n",
    "else:\n",
    "    print(\"Fail to Reject Null Hypothesis: No evidence that Age influences Grip Force.\")\n"
   ]
  },
  {
   "cell_type": "markdown",
   "id": "dfb65648-cdf1-432b-8917-629c660a27ae",
   "metadata": {},
   "source": [
    "### Systolic vs Performance (ANOVA Test)"
   ]
  },
  {
   "cell_type": "code",
   "execution_count": 131,
   "id": "b8b82df6-b2c4-4c5d-b6e9-944202509e53",
   "metadata": {},
   "outputs": [
    {
     "name": "stdout",
     "output_type": "stream",
     "text": [
      "F-statistic: 12.234920324832233\n",
      "P-value: 5.44102034012032e-08\n",
      "Reject Null Hypothesis: Systolic blood pressure differs across Classes.\n"
     ]
    }
   ],
   "source": [
    "from scipy.stats import f_oneway\n",
    "\n",
    "weak_systolic = df[df['Performance'] == 'Weak']['Systolic']\n",
    "average_systolic = df[df['Performance'] == 'Average']['Systolic']\n",
    "good_systolic = df[df['Performance'] == 'Good']['Systolic']\n",
    "strong_systolic = df[df['Performance'] == 'Strong']['Systolic']\n",
    "\n",
    "# Perform ANOVA test\n",
    "f_stat, p_value = f_oneway(weak_systolic, average_systolic, good_systolic, strong_systolic)\n",
    "print(\"F-statistic:\", f_stat)\n",
    "print(\"P-value:\", p_value)\n",
    "\n",
    "if p_value < 0.05:\n",
    "    print(\"Reject Null Hypothesis: Systolic blood pressure differs across Classes.\")\n",
    "else:\n",
    "    print(\"Fail to Reject Null Hypothesis: No evidence that Systolic differs across Classes.\")\n"
   ]
  },
  {
   "cell_type": "markdown",
   "id": "201e85c7-0cf5-454e-8db1-0e84d38b5a2b",
   "metadata": {},
   "source": [
    "### Systolic vs Body_fat"
   ]
  },
  {
   "cell_type": "code",
   "execution_count": 132,
   "id": "419d7886-ed5c-40a5-849b-c298d66ec78b",
   "metadata": {},
   "outputs": [
    {
     "name": "stdout",
     "output_type": "stream",
     "text": [
      "F-statistic: 721.6067905161873\n",
      "P-value: 0.0\n",
      "Reject Null Hypothesis: Systolic blood pressure differs across performance.\n"
     ]
    }
   ],
   "source": [
    "from scipy.stats import f_oneway\n",
    "\n",
    "weak_systolic = df[df['Performance'] == 'Weak']['Body_Fat']\n",
    "average_systolic = df[df['Performance'] == 'Average']['Body_Fat']\n",
    "good_systolic = df[df['Performance'] == 'Good']['Body_Fat']\n",
    "strong_systolic = df[df['Performance'] == 'Strong']['Body_Fat']\n",
    "\n",
    "# Perform ANOVA test\n",
    "f_stat, p_value = f_oneway(weak_systolic, average_systolic, good_systolic, strong_systolic)\n",
    "print(\"F-statistic:\", f_stat)\n",
    "print(\"P-value:\", p_value)\n",
    "\n",
    "if p_value < 0.05:\n",
    "    print(\"Reject Null Hypothesis: Systolic blood pressure differs across performance.\")\n",
    "else:\n",
    "    print(\"Fail to Reject Null Hypothesis: No evidence that Systolic differs across performance.\")\n"
   ]
  },
  {
   "cell_type": "code",
   "execution_count": null,
   "id": "ea3a663a-9904-46c2-ac14-ef7ed546c995",
   "metadata": {},
   "outputs": [],
   "source": []
  },
  {
   "cell_type": "markdown",
   "id": "eb9b5fb8-532c-43cd-b1e5-46b92bcc720a",
   "metadata": {},
   "source": [
    "## Model Buliding"
   ]
  },
  {
   "cell_type": "code",
   "execution_count": 133,
   "id": "ebcbe1d5-ff28-4957-9379-3b7fc5bd64cf",
   "metadata": {},
   "outputs": [],
   "source": [
    "from sklearn.metrics import accuracy_score,f1_score,recall_score,roc_auc_score,classification_report\n",
    "from sklearn.model_selection import train_test_split,GridSearchCV,RandomizedSearchCV\n",
    "from sklearn.preprocessing import OneHotEncoder,StandardScaler,LabelEncoder\n",
    "from sklearn.neighbors import KNeighborsClassifier\n",
    "from sklearn.naive_bayes import GaussianNB,MultinomialNB,CategoricalNB\n",
    "from sklearn.linear_model import LogisticRegression\n",
    "from sklearn.tree import DecisionTreeClassifier\n",
    "from sklearn.svm import SVC\n",
    "from sklearn.ensemble import RandomForestClassifier\n",
    "from sklearn.pipeline import Pipeline\n",
    "from sklearn.compose import ColumnTransformer\n",
    "from xgboost import XGBClassifier,XGBRFClassifier"
   ]
  },
  {
   "cell_type": "code",
   "execution_count": 134,
   "id": "142f3249-da3f-4c18-a832-a91a02beb840",
   "metadata": {},
   "outputs": [
    {
     "data": {
      "text/html": [
       "<div>\n",
       "<style scoped>\n",
       "    .dataframe tbody tr th:only-of-type {\n",
       "        vertical-align: middle;\n",
       "    }\n",
       "\n",
       "    .dataframe tbody tr th {\n",
       "        vertical-align: top;\n",
       "    }\n",
       "\n",
       "    .dataframe thead th {\n",
       "        text-align: right;\n",
       "    }\n",
       "</style>\n",
       "<table border=\"1\" class=\"dataframe\">\n",
       "  <thead>\n",
       "    <tr style=\"text-align: right;\">\n",
       "      <th></th>\n",
       "      <th>Age</th>\n",
       "      <th>Gender</th>\n",
       "      <th>Height_CM</th>\n",
       "      <th>Weight_KG</th>\n",
       "      <th>Body_Fat</th>\n",
       "      <th>Diastolic</th>\n",
       "      <th>Systolic</th>\n",
       "      <th>Grip_Force</th>\n",
       "      <th>Sit_and_BendForward_CM</th>\n",
       "      <th>Sit_Up_Counts</th>\n",
       "      <th>Broad_Jump_CM</th>\n",
       "      <th>Performance</th>\n",
       "    </tr>\n",
       "  </thead>\n",
       "  <tbody>\n",
       "    <tr>\n",
       "      <th>0</th>\n",
       "      <td>27</td>\n",
       "      <td>M</td>\n",
       "      <td>172.3</td>\n",
       "      <td>75.24</td>\n",
       "      <td>21.3</td>\n",
       "      <td>80</td>\n",
       "      <td>130</td>\n",
       "      <td>54.9</td>\n",
       "      <td>18.4</td>\n",
       "      <td>60</td>\n",
       "      <td>217</td>\n",
       "      <td>Average</td>\n",
       "    </tr>\n",
       "    <tr>\n",
       "      <th>1</th>\n",
       "      <td>25</td>\n",
       "      <td>M</td>\n",
       "      <td>165.0</td>\n",
       "      <td>55.80</td>\n",
       "      <td>15.7</td>\n",
       "      <td>77</td>\n",
       "      <td>126</td>\n",
       "      <td>36.4</td>\n",
       "      <td>16.3</td>\n",
       "      <td>53</td>\n",
       "      <td>229</td>\n",
       "      <td>Strong</td>\n",
       "    </tr>\n",
       "    <tr>\n",
       "      <th>2</th>\n",
       "      <td>31</td>\n",
       "      <td>M</td>\n",
       "      <td>179.6</td>\n",
       "      <td>78.00</td>\n",
       "      <td>20.1</td>\n",
       "      <td>92</td>\n",
       "      <td>152</td>\n",
       "      <td>44.8</td>\n",
       "      <td>12.0</td>\n",
       "      <td>49</td>\n",
       "      <td>181</td>\n",
       "      <td>Average</td>\n",
       "    </tr>\n",
       "    <tr>\n",
       "      <th>3</th>\n",
       "      <td>32</td>\n",
       "      <td>M</td>\n",
       "      <td>174.5</td>\n",
       "      <td>71.10</td>\n",
       "      <td>18.4</td>\n",
       "      <td>76</td>\n",
       "      <td>147</td>\n",
       "      <td>41.4</td>\n",
       "      <td>15.2</td>\n",
       "      <td>53</td>\n",
       "      <td>219</td>\n",
       "      <td>Good</td>\n",
       "    </tr>\n",
       "    <tr>\n",
       "      <th>4</th>\n",
       "      <td>28</td>\n",
       "      <td>M</td>\n",
       "      <td>173.8</td>\n",
       "      <td>67.70</td>\n",
       "      <td>17.1</td>\n",
       "      <td>70</td>\n",
       "      <td>127</td>\n",
       "      <td>43.5</td>\n",
       "      <td>27.1</td>\n",
       "      <td>45</td>\n",
       "      <td>217</td>\n",
       "      <td>Good</td>\n",
       "    </tr>\n",
       "    <tr>\n",
       "      <th>...</th>\n",
       "      <td>...</td>\n",
       "      <td>...</td>\n",
       "      <td>...</td>\n",
       "      <td>...</td>\n",
       "      <td>...</td>\n",
       "      <td>...</td>\n",
       "      <td>...</td>\n",
       "      <td>...</td>\n",
       "      <td>...</td>\n",
       "      <td>...</td>\n",
       "      <td>...</td>\n",
       "      <td>...</td>\n",
       "    </tr>\n",
       "    <tr>\n",
       "      <th>13387</th>\n",
       "      <td>25</td>\n",
       "      <td>M</td>\n",
       "      <td>172.1</td>\n",
       "      <td>71.80</td>\n",
       "      <td>16.2</td>\n",
       "      <td>74</td>\n",
       "      <td>141</td>\n",
       "      <td>35.8</td>\n",
       "      <td>17.4</td>\n",
       "      <td>47</td>\n",
       "      <td>198</td>\n",
       "      <td>Average</td>\n",
       "    </tr>\n",
       "    <tr>\n",
       "      <th>13388</th>\n",
       "      <td>21</td>\n",
       "      <td>M</td>\n",
       "      <td>179.7</td>\n",
       "      <td>63.90</td>\n",
       "      <td>12.1</td>\n",
       "      <td>74</td>\n",
       "      <td>128</td>\n",
       "      <td>33.0</td>\n",
       "      <td>1.1</td>\n",
       "      <td>48</td>\n",
       "      <td>167</td>\n",
       "      <td>Weak</td>\n",
       "    </tr>\n",
       "    <tr>\n",
       "      <th>13389</th>\n",
       "      <td>39</td>\n",
       "      <td>M</td>\n",
       "      <td>177.2</td>\n",
       "      <td>80.50</td>\n",
       "      <td>20.1</td>\n",
       "      <td>78</td>\n",
       "      <td>132</td>\n",
       "      <td>63.5</td>\n",
       "      <td>16.4</td>\n",
       "      <td>45</td>\n",
       "      <td>229</td>\n",
       "      <td>Strong</td>\n",
       "    </tr>\n",
       "    <tr>\n",
       "      <th>13390</th>\n",
       "      <td>64</td>\n",
       "      <td>F</td>\n",
       "      <td>146.1</td>\n",
       "      <td>57.70</td>\n",
       "      <td>40.4</td>\n",
       "      <td>68</td>\n",
       "      <td>121</td>\n",
       "      <td>19.3</td>\n",
       "      <td>9.2</td>\n",
       "      <td>0</td>\n",
       "      <td>75</td>\n",
       "      <td>Weak</td>\n",
       "    </tr>\n",
       "    <tr>\n",
       "      <th>13391</th>\n",
       "      <td>34</td>\n",
       "      <td>M</td>\n",
       "      <td>164.0</td>\n",
       "      <td>66.10</td>\n",
       "      <td>19.5</td>\n",
       "      <td>82</td>\n",
       "      <td>150</td>\n",
       "      <td>35.9</td>\n",
       "      <td>7.1</td>\n",
       "      <td>51</td>\n",
       "      <td>180</td>\n",
       "      <td>Average</td>\n",
       "    </tr>\n",
       "  </tbody>\n",
       "</table>\n",
       "<p>13392 rows × 12 columns</p>\n",
       "</div>"
      ],
      "text/plain": [
       "       Age Gender  Height_CM  Weight_KG  Body_Fat  Diastolic  Systolic  \\\n",
       "0       27      M      172.3      75.24      21.3         80       130   \n",
       "1       25      M      165.0      55.80      15.7         77       126   \n",
       "2       31      M      179.6      78.00      20.1         92       152   \n",
       "3       32      M      174.5      71.10      18.4         76       147   \n",
       "4       28      M      173.8      67.70      17.1         70       127   \n",
       "...    ...    ...        ...        ...       ...        ...       ...   \n",
       "13387   25      M      172.1      71.80      16.2         74       141   \n",
       "13388   21      M      179.7      63.90      12.1         74       128   \n",
       "13389   39      M      177.2      80.50      20.1         78       132   \n",
       "13390   64      F      146.1      57.70      40.4         68       121   \n",
       "13391   34      M      164.0      66.10      19.5         82       150   \n",
       "\n",
       "       Grip_Force  Sit_and_BendForward_CM  Sit_Up_Counts  Broad_Jump_CM  \\\n",
       "0            54.9                    18.4             60            217   \n",
       "1            36.4                    16.3             53            229   \n",
       "2            44.8                    12.0             49            181   \n",
       "3            41.4                    15.2             53            219   \n",
       "4            43.5                    27.1             45            217   \n",
       "...           ...                     ...            ...            ...   \n",
       "13387        35.8                    17.4             47            198   \n",
       "13388        33.0                     1.1             48            167   \n",
       "13389        63.5                    16.4             45            229   \n",
       "13390        19.3                     9.2              0             75   \n",
       "13391        35.9                     7.1             51            180   \n",
       "\n",
       "      Performance  \n",
       "0         Average  \n",
       "1          Strong  \n",
       "2         Average  \n",
       "3            Good  \n",
       "4            Good  \n",
       "...           ...  \n",
       "13387     Average  \n",
       "13388        Weak  \n",
       "13389      Strong  \n",
       "13390        Weak  \n",
       "13391     Average  \n",
       "\n",
       "[13392 rows x 12 columns]"
      ]
     },
     "execution_count": 134,
     "metadata": {},
     "output_type": "execute_result"
    }
   ],
   "source": [
    "df"
   ]
  },
  {
   "cell_type": "code",
   "execution_count": 135,
   "id": "fcd07d0b-2106-4237-b862-c038ab0980aa",
   "metadata": {},
   "outputs": [],
   "source": [
    "X = df.drop('Performance', axis=1)\n",
    "y = df['Performance']"
   ]
  },
  {
   "cell_type": "code",
   "execution_count": 136,
   "id": "a35cdff6-de78-454e-9bb6-bfa7784ed24b",
   "metadata": {},
   "outputs": [],
   "source": [
    "X_train, X_test, y_train, y_test = train_test_split(X, y, test_size=0.2, random_state=42)"
   ]
  },
  {
   "cell_type": "code",
   "execution_count": null,
   "id": "680bf86d-3d7f-42bd-a5e8-88eac905442e",
   "metadata": {},
   "outputs": [
    {
     "name": "stdout",
     "output_type": "stream",
     "text": [
      "(10713, 11)\n",
      "(2679, 11)\n",
      "(10713,)\n",
      "(2679,)\n"
     ]
    }
   ],
   "source": [
    "print(X_train.shape)\n",
    "print(X_test.shape)\n",
    "print(y_train.shape)\n",
    "print(y_test.shape)"
   ]
  },
  {
   "cell_type": "code",
   "execution_count": null,
   "id": "716ff33a-b74d-4475-84ea-ad65adbc9364",
   "metadata": {},
   "outputs": [],
   "source": [
    "num = [\"Age\",\"Height_CM\",\"Weight_KG\",\"Body_Fat\",\"Diastolic\",\"Systolic\",\"Grip_Force\",\"Sit_and_BendForward_CM\",\"Sit_Up_Counts\",\"Broad_Jump_CM\"]\n",
    "cat = [\"Gender\"]"
   ]
  },
  {
   "cell_type": "code",
   "execution_count": 139,
   "id": "ca989738-689c-4b6b-8359-79be13c48fd3",
   "metadata": {},
   "outputs": [],
   "source": [
    "preprocessor = ColumnTransformer(\n",
    "    transformers=[\n",
    "        ('num', StandardScaler(), num),\n",
    "        ('cat', OneHotEncoder(), cat)\n",
    "    ]\n",
    ")"
   ]
  },
  {
   "cell_type": "code",
   "execution_count": null,
   "id": "3bf48575-1661-4074-ac25-a3ccae10a594",
   "metadata": {},
   "outputs": [],
   "source": []
  },
  {
   "cell_type": "markdown",
   "id": "e5b0a0d4-cb60-4eb9-bfc1-eb27c09463b4",
   "metadata": {},
   "source": [
    "## Random ForestClassifier"
   ]
  },
  {
   "cell_type": "code",
   "execution_count": 140,
   "id": "607228d9-5e39-4f31-aee9-c6c9e1f0b467",
   "metadata": {},
   "outputs": [],
   "source": [
    "param_grid = {\n",
    "    'classifier__n_estimators': [50, 100, 150],         \n",
    "    'classifier__max_depth': [None, 10, 20, 30],        \n",
    "    'classifier__min_samples_split': [2, 5, 10],        \n",
    "    'classifier__min_samples_leaf': [1, 2, 4],          \n",
    "    'classifier__max_features': ['auto', 'sqrt', 'log2'] \n",
    "}"
   ]
  },
  {
   "cell_type": "code",
   "execution_count": 141,
   "id": "1409a9b4-7c43-4988-84fb-82a8b7b1572e",
   "metadata": {},
   "outputs": [],
   "source": [
    "import warnings\n",
    "from sklearn.exceptions import FitFailedWarning\n",
    "\n",
    "# Suppress specific warnings\n",
    "warnings.filterwarnings(\"ignore\", category=FitFailedWarning)"
   ]
  },
  {
   "cell_type": "code",
   "execution_count": 142,
   "id": "86a515c3-bcde-4683-b167-279733cb0278",
   "metadata": {},
   "outputs": [
    {
     "name": "stdout",
     "output_type": "stream",
     "text": [
      "Fitting 3 folds for each of 10 candidates, totalling 30 fits\n"
     ]
    },
    {
     "name": "stderr",
     "output_type": "stream",
     "text": [
      "C:\\Users\\USER\\anaconda3\\Lib\\site-packages\\sklearn\\model_selection\\_search.py:1103: UserWarning: One or more of the test scores are non-finite: [0.71343228 0.72145991        nan 0.71688603 0.70475124 0.70167087\n",
      "        nan 0.70764492 0.71175208 0.7002707 ]\n",
      "  warnings.warn(\n"
     ]
    },
    {
     "name": "stdout",
     "output_type": "stream",
     "text": [
      "0.7510265024262784\n",
      "              precision    recall  f1-score   support\n",
      "\n",
      "     Average       0.73      0.69      0.71       656\n",
      "        Good       0.64      0.63      0.63       664\n",
      "      Strong       0.74      0.85      0.80       666\n",
      "        Weak       0.90      0.83      0.86       693\n",
      "\n",
      "    accuracy                           0.75      2679\n",
      "   macro avg       0.75      0.75      0.75      2679\n",
      "weighted avg       0.75      0.75      0.75      2679\n",
      "\n"
     ]
    }
   ],
   "source": [
    "pipeline = Pipeline(steps=[\n",
    "    ('preprocessor', preprocessor),\n",
    "    ('classifier', RandomForestClassifier())])\n",
    "\n",
    "random_search = RandomizedSearchCV(estimator=pipeline, param_distributions=param_grid, \n",
    "                                   n_iter=10, cv=3, scoring='accuracy', n_jobs=-1, verbose=2, random_state=0)\n",
    "random_search.fit(X_train, y_train)\n",
    "model = random_search.best_estimator_\n",
    "y_pred = model.predict(X_test)\n",
    "print(accuracy_score(y_test, y_pred))\n",
    "print(classification_report(y_test, y_pred))"
   ]
  },
  {
   "cell_type": "markdown",
   "id": "d127b5b1-d84b-414f-a8d4-ebf4d7754ad2",
   "metadata": {},
   "source": [
    "## Decision Tree"
   ]
  },
  {
   "cell_type": "code",
   "execution_count": 143,
   "id": "c0c3aca8-5ad1-4e00-838f-af28268b2c3b",
   "metadata": {},
   "outputs": [],
   "source": [
    "param_grid = {\n",
    "    'classifier__n_estimators': [50, 100, 150],         \n",
    "    'classifier__max_depth': [None, 10, 20, 30],        \n",
    "    'classifier__min_samples_split': [2, 5, 10],        \n",
    "    'classifier__min_samples_leaf': [1, 2, 4],          \n",
    "    'classifier__max_features': ['auto', 'sqrt', 'log2'] \n",
    "}"
   ]
  },
  {
   "cell_type": "code",
   "execution_count": 144,
   "id": "8d4aa68a-33f6-41b7-92a7-2b44de1282dd",
   "metadata": {},
   "outputs": [
    {
     "name": "stdout",
     "output_type": "stream",
     "text": [
      "0.6562150055991042\n",
      "Classification Report:\n",
      "               precision    recall  f1-score   support\n",
      "\n",
      "     Average       0.59      0.59      0.59       656\n",
      "        Good       0.53      0.55      0.54       664\n",
      "      Strong       0.71      0.69      0.70       666\n",
      "        Weak       0.80      0.80      0.80       693\n",
      "\n",
      "    accuracy                           0.66      2679\n",
      "   macro avg       0.66      0.65      0.66      2679\n",
      "weighted avg       0.66      0.66      0.66      2679\n",
      "\n"
     ]
    }
   ],
   "source": [
    "pipeline = Pipeline(steps=[\n",
    "    ('preprocessor', preprocessor),\n",
    "    ('classifier', DecisionTreeClassifier())])\n",
    "\n",
    "random_search = RandomizedSearchCV(estimator=pipeline, param_distributions=param_grid, \n",
    "                                   n_iter=10, cv=3, scoring='accuracy', n_jobs=-1, verbose=2, random_state=0)\n",
    "\n",
    "pipeline.fit(X_train,y_train)\n",
    "y_pred = pipeline.predict(X_test)\n",
    "acccuracy = accuracy_score(y_test,y_pred)\n",
    "print(acccuracy)\n",
    "print(\"Classification Report:\\n\",classification_report(y_test,y_pred))"
   ]
  },
  {
   "cell_type": "markdown",
   "id": "75cdcbee-d2e8-4ee5-b4b7-688ab102ac65",
   "metadata": {},
   "source": [
    "## KNeighbors"
   ]
  },
  {
   "cell_type": "code",
   "execution_count": 145,
   "id": "fa023572-0a72-4ad7-bcc4-5c078194d0ce",
   "metadata": {},
   "outputs": [],
   "source": [
    "param_grid = {\"n_neighbors\":[3,5,7],\n",
    "\"weights\":[\"uniform\",\"distance\"],\n",
    "\"algorithm\":[\"auto\", \"ball_tree\", \"kd_tree\", \"brute\"],\n",
    "\"leaf_size\":[30],\n",
    "\"p\":[1,2],\n",
    "\"metric\":['minkowski']\n",
    "}"
   ]
  },
  {
   "cell_type": "code",
   "execution_count": 146,
   "id": "27a99cdf-3265-412a-a714-ca0d7eb33b46",
   "metadata": {},
   "outputs": [
    {
     "name": "stdout",
     "output_type": "stream",
     "text": [
      "0.6080627099664053\n",
      "Classification Report:\n",
      "               precision    recall  f1-score   support\n",
      "\n",
      "     Average       0.53      0.61      0.57       656\n",
      "        Good       0.43      0.46      0.44       664\n",
      "      Strong       0.66      0.70      0.68       666\n",
      "        Weak       0.92      0.66      0.77       693\n",
      "\n",
      "    accuracy                           0.61      2679\n",
      "   macro avg       0.63      0.61      0.61      2679\n",
      "weighted avg       0.64      0.61      0.62      2679\n",
      "\n"
     ]
    }
   ],
   "source": [
    "pipeline = Pipeline(steps=[\n",
    "    ('preprocessor', preprocessor),\n",
    "    ('classifier', KNeighborsClassifier())])\n",
    "\n",
    "random_search = RandomizedSearchCV(estimator=pipeline, param_distributions=param_grid, \n",
    "                                   n_iter=10, cv=3, scoring='accuracy', n_jobs=-1, verbose=2, random_state=0)\n",
    "\n",
    "pipeline.fit(X_train,y_train)\n",
    "y_pred = pipeline.predict(X_test)\n",
    "acccuracy = accuracy_score(y_test,y_pred)\n",
    "print(acccuracy)\n",
    "print(\"Classification Report:\\n\",classification_report(y_test,y_pred))"
   ]
  },
  {
   "cell_type": "markdown",
   "id": "d618f91c-8971-4d20-8889-8fe7343ffa10",
   "metadata": {},
   "source": [
    "## SVM"
   ]
  },
  {
   "cell_type": "code",
   "execution_count": 147,
   "id": "ed111d34-7f23-4c77-bcb7-84cefa996874",
   "metadata": {},
   "outputs": [
    {
     "name": "stdout",
     "output_type": "stream",
     "text": [
      "0.6980216498693542\n",
      "Classification Report:\n",
      "               precision    recall  f1-score   support\n",
      "\n",
      "     Average       0.65      0.66      0.65       656\n",
      "        Good       0.56      0.55      0.55       664\n",
      "      Strong       0.71      0.80      0.75       666\n",
      "        Weak       0.89      0.79      0.83       693\n",
      "\n",
      "    accuracy                           0.70      2679\n",
      "   macro avg       0.70      0.70      0.70      2679\n",
      "weighted avg       0.70      0.70      0.70      2679\n",
      "\n"
     ]
    }
   ],
   "source": [
    "pipeline = Pipeline(steps=[\n",
    "    ('preprocessor', preprocessor),\n",
    "    ('classifier', SVC())])\n",
    "\n",
    "random_search = RandomizedSearchCV(estimator=pipeline, param_distributions=param_grid, \n",
    "                                   n_iter=10, cv=3, scoring='accuracy', n_jobs=-1, verbose=2, random_state=0)\n",
    "\n",
    "pipeline.fit(X_train,y_train)\n",
    "y_pred = pipeline.predict(X_test)\n",
    "acccuracy = accuracy_score(y_test,y_pred)\n",
    "print(acccuracy)\n",
    "print(\"Classification Report:\\n\",classification_report(y_test,y_pred))"
   ]
  },
  {
   "cell_type": "markdown",
   "id": "ff6092dd-3a0f-4f27-9e19-fde22ff80a73",
   "metadata": {},
   "source": [
    "# HYPER PARAMETER TUNING"
   ]
  },
  {
   "cell_type": "markdown",
   "id": "8d860240-74d5-4874-9caa-082a7302f837",
   "metadata": {},
   "source": [
    "### Random Forest"
   ]
  },
  {
   "cell_type": "code",
   "execution_count": 148,
   "id": "ea6eeb0d-8f59-4906-87ca-71cf679abe43",
   "metadata": {},
   "outputs": [
    {
     "name": "stdout",
     "output_type": "stream",
     "text": [
      "Requirement already satisfied: optuna in c:\\users\\user\\anaconda3\\lib\\site-packages (4.1.0)\n",
      "Requirement already satisfied: alembic>=1.5.0 in c:\\users\\user\\anaconda3\\lib\\site-packages (from optuna) (1.14.0)\n",
      "Requirement already satisfied: colorlog in c:\\users\\user\\anaconda3\\lib\\site-packages (from optuna) (6.9.0)\n",
      "Requirement already satisfied: numpy in c:\\users\\user\\anaconda3\\lib\\site-packages (from optuna) (1.24.4)\n",
      "Requirement already satisfied: packaging>=20.0 in c:\\users\\user\\anaconda3\\lib\\site-packages (from optuna) (24.2)\n",
      "Requirement already satisfied: sqlalchemy>=1.4.2 in c:\\users\\user\\anaconda3\\lib\\site-packages (from optuna) (2.0.25)\n",
      "Requirement already satisfied: tqdm in c:\\users\\user\\anaconda3\\lib\\site-packages (from optuna) (4.65.0)\n",
      "Requirement already satisfied: PyYAML in c:\\users\\user\\anaconda3\\lib\\site-packages (from optuna) (6.0.1)\n",
      "Requirement already satisfied: Mako in c:\\users\\user\\anaconda3\\lib\\site-packages (from alembic>=1.5.0->optuna) (1.3.8)\n",
      "Requirement already satisfied: typing-extensions>=4 in c:\\users\\user\\anaconda3\\lib\\site-packages (from alembic>=1.5.0->optuna) (4.12.2)\n",
      "Requirement already satisfied: greenlet!=0.4.17 in c:\\users\\user\\anaconda3\\lib\\site-packages (from sqlalchemy>=1.4.2->optuna) (3.0.1)\n",
      "Requirement already satisfied: colorama in c:\\users\\user\\anaconda3\\lib\\site-packages (from colorlog->optuna) (0.4.6)\n",
      "Requirement already satisfied: MarkupSafe>=0.9.2 in c:\\users\\user\\anaconda3\\lib\\site-packages (from Mako->alembic>=1.5.0->optuna) (2.1.3)\n"
     ]
    },
    {
     "name": "stderr",
     "output_type": "stream",
     "text": [
      "WARNING: Ignoring invalid distribution ~andas (C:\\Users\\USER\\anaconda3\\Lib\\site-packages)\n",
      "WARNING: Ignoring invalid distribution ~andas (C:\\Users\\USER\\anaconda3\\Lib\\site-packages)\n",
      "WARNING: Ignoring invalid distribution ~andas (C:\\Users\\USER\\anaconda3\\Lib\\site-packages)\n"
     ]
    }
   ],
   "source": [
    "!pip install optuna"
   ]
  },
  {
   "cell_type": "code",
   "execution_count": null,
   "id": "12dbc2f6-0514-4fa2-8c78-91b69de0316a",
   "metadata": {},
   "outputs": [],
   "source": []
  },
  {
   "cell_type": "code",
   "execution_count": 157,
   "id": "3722e148-9b74-4002-a032-8e3ec72dc337",
   "metadata": {
    "scrolled": true
   },
   "outputs": [
    {
     "name": "stderr",
     "output_type": "stream",
     "text": [
      "[I 2024-12-21 03:21:30,623] A new study created in memory with name: no-name-04b24ddc-9899-4583-873f-3714519c67ca\n",
      "[I 2024-12-21 03:21:41,750] Trial 2 finished with value: 0.7485483078026199 and parameters: {'n_estimators': 84, 'max_depth': 78, 'min_samples_split': 9, 'min_samples_leaf': 5, 'max_features': 'log2', 'bootstrap': False}. Best is trial 2 with value: 0.7485483078026199.\n",
      "[I 2024-12-21 03:21:50,171] Trial 3 finished with value: 0.7525769901313306 and parameters: {'n_estimators': 216, 'max_depth': 16, 'min_samples_split': 15, 'min_samples_leaf': 7, 'max_features': 'log2', 'bootstrap': False}. Best is trial 3 with value: 0.7525769901313306.\n",
      "[I 2024-12-21 03:21:50,693] Trial 4 finished with value: 0.7376218194501449 and parameters: {'n_estimators': 136, 'max_depth': 64, 'min_samples_split': 2, 'min_samples_leaf': 9, 'max_features': 'log2', 'bootstrap': True}. Best is trial 3 with value: 0.7525769901313306.\n",
      "[I 2024-12-21 03:21:51,328] Trial 1 finished with value: 0.7495828332537249 and parameters: {'n_estimators': 235, 'max_depth': 19, 'min_samples_split': 9, 'min_samples_leaf': 6, 'max_features': 'sqrt', 'bootstrap': False}. Best is trial 3 with value: 0.7525769901313306.\n",
      "[I 2024-12-21 03:21:57,121] Trial 7 finished with value: 0.7422649654672602 and parameters: {'n_estimators': 64, 'max_depth': 12, 'min_samples_split': 20, 'min_samples_leaf': 9, 'max_features': 'sqrt', 'bootstrap': False}. Best is trial 3 with value: 0.7525769901313306.\n",
      "[I 2024-12-21 03:21:58,077] Trial 6 finished with value: 0.7245898318862896 and parameters: {'n_estimators': 134, 'max_depth': 10, 'min_samples_split': 4, 'min_samples_leaf': 10, 'max_features': 'sqrt', 'bootstrap': True}. Best is trial 3 with value: 0.7525769901313306.\n",
      "[I 2024-12-21 03:22:03,397] Trial 5 finished with value: 0.7401363217953815 and parameters: {'n_estimators': 185, 'max_depth': 21, 'min_samples_split': 15, 'min_samples_leaf': 6, 'max_features': 'log2', 'bootstrap': True}. Best is trial 3 with value: 0.7525769901313306.\n",
      "[I 2024-12-21 03:22:08,118] Trial 9 finished with value: 0.7354187908345973 and parameters: {'n_estimators': 106, 'max_depth': 19, 'min_samples_split': 17, 'min_samples_leaf': 4, 'max_features': 'sqrt', 'bootstrap': True}. Best is trial 3 with value: 0.7525769901313306.\n",
      "[I 2024-12-21 03:22:14,082] Trial 8 finished with value: 0.7435701144809478 and parameters: {'n_estimators': 239, 'max_depth': 12, 'min_samples_split': 16, 'min_samples_leaf': 6, 'max_features': 'sqrt', 'bootstrap': False}. Best is trial 3 with value: 0.7525769901313306.\n",
      "[I 2024-12-21 03:22:14,763] Trial 10 finished with value: 0.7391594159402136 and parameters: {'n_estimators': 135, 'max_depth': 71, 'min_samples_split': 18, 'min_samples_leaf': 10, 'max_features': 'sqrt', 'bootstrap': False}. Best is trial 3 with value: 0.7525769901313306.\n",
      "[I 2024-12-21 03:22:22,424] Trial 0 finished with value: 0.6867148102057716 and parameters: {'n_estimators': 246, 'max_depth': 32, 'min_samples_split': 9, 'min_samples_leaf': 7, 'max_features': None, 'bootstrap': False}. Best is trial 3 with value: 0.7525769901313306.\n",
      "[I 2024-12-21 03:22:23,416] Trial 11 finished with value: 0.735547236117931 and parameters: {'n_estimators': 236, 'max_depth': 14, 'min_samples_split': 12, 'min_samples_leaf': 2, 'max_features': 'log2', 'bootstrap': True}. Best is trial 3 with value: 0.7525769901313306.\n",
      "[I 2024-12-21 03:22:57,082] Trial 12 finished with value: 0.6879762818968154 and parameters: {'n_estimators': 216, 'max_depth': 34, 'min_samples_split': 12, 'min_samples_leaf': 8, 'max_features': None, 'bootstrap': False}. Best is trial 3 with value: 0.7525769901313306.\n",
      "[I 2024-12-21 03:23:25,882] Trial 16 finished with value: 0.749555844042932 and parameters: {'n_estimators': 296, 'max_depth': 21, 'min_samples_split': 7, 'min_samples_leaf': 3, 'max_features': 'log2', 'bootstrap': False}. Best is trial 3 with value: 0.7525769901313306.\n",
      "[I 2024-12-21 03:23:29,337] Trial 13 finished with value: 0.6690679957301346 and parameters: {'n_estimators': 294, 'max_depth': 41, 'min_samples_split': 12, 'min_samples_leaf': 1, 'max_features': None, 'bootstrap': False}. Best is trial 3 with value: 0.7525769901313306.\n",
      "[I 2024-12-21 03:23:32,467] Trial 15 finished with value: 0.6724547895514059 and parameters: {'n_estimators': 295, 'max_depth': 35, 'min_samples_split': 12, 'min_samples_leaf': 3, 'max_features': None, 'bootstrap': False}. Best is trial 3 with value: 0.7525769901313306.\n",
      "[I 2024-12-21 03:23:36,463] Trial 14 finished with value: 0.6723702197543533 and parameters: {'n_estimators': 299, 'max_depth': 23, 'min_samples_split': 13, 'min_samples_leaf': 1, 'max_features': None, 'bootstrap': False}. Best is trial 3 with value: 0.7525769901313306.\n",
      "[I 2024-12-21 03:23:44,125] Trial 18 finished with value: 0.7487814930001133 and parameters: {'n_estimators': 191, 'max_depth': 16, 'min_samples_split': 14, 'min_samples_leaf': 7, 'max_features': 'sqrt', 'bootstrap': False}. Best is trial 3 with value: 0.7525769901313306.\n",
      "[I 2024-12-21 03:23:47,128] Trial 19 finished with value: 0.7471614204300173 and parameters: {'n_estimators': 189, 'max_depth': 16, 'min_samples_split': 14, 'min_samples_leaf': 7, 'max_features': 'log2', 'bootstrap': False}. Best is trial 3 with value: 0.7525769901313306.\n",
      "[I 2024-12-21 03:23:51,349] Trial 20 finished with value: 0.7490905693671632 and parameters: {'n_estimators': 190, 'max_depth': 16, 'min_samples_split': 6, 'min_samples_leaf': 7, 'max_features': 'log2', 'bootstrap': False}. Best is trial 3 with value: 0.7525769901313306.\n",
      "[I 2024-12-21 03:24:06,808] Trial 21 finished with value: 0.7488044194294906 and parameters: {'n_estimators': 262, 'max_depth': 49, 'min_samples_split': 9, 'min_samples_leaf': 5, 'max_features': 'log2', 'bootstrap': False}. Best is trial 3 with value: 0.7525769901313306.\n",
      "[I 2024-12-21 03:24:09,993] Trial 22 finished with value: 0.7494901029114652 and parameters: {'n_estimators': 264, 'max_depth': 50, 'min_samples_split': 9, 'min_samples_leaf': 5, 'max_features': 'sqrt', 'bootstrap': False}. Best is trial 3 with value: 0.7525769901313306.\n",
      "[I 2024-12-21 03:24:12,814] Trial 23 finished with value: 0.7488575131410387 and parameters: {'n_estimators': 254, 'max_depth': 48, 'min_samples_split': 9, 'min_samples_leaf': 5, 'max_features': 'sqrt', 'bootstrap': False}. Best is trial 3 with value: 0.7525769901313306.\n",
      "[I 2024-12-21 03:24:21,745] Trial 17 finished with value: 0.6867148102057716 and parameters: {'n_estimators': 289, 'max_depth': 48, 'min_samples_split': 14, 'min_samples_leaf': 7, 'max_features': None, 'bootstrap': False}. Best is trial 3 with value: 0.7525769901313306.\n",
      "[I 2024-12-21 03:24:27,632] Trial 24 finished with value: 0.7569794875105228 and parameters: {'n_estimators': 262, 'max_depth': 23, 'min_samples_split': 7, 'min_samples_leaf': 4, 'max_features': 'log2', 'bootstrap': False}. Best is trial 24 with value: 0.7569794875105228.\n",
      "[I 2024-12-21 03:24:27,837] Trial 25 finished with value: 0.7523517058364902 and parameters: {'n_estimators': 220, 'max_depth': 26, 'min_samples_split': 7, 'min_samples_leaf': 3, 'max_features': 'log2', 'bootstrap': False}. Best is trial 24 with value: 0.7569794875105228.\n",
      "[I 2024-12-21 03:24:31,876] Trial 26 finished with value: 0.7529466499952528 and parameters: {'n_estimators': 215, 'max_depth': 25, 'min_samples_split': 6, 'min_samples_leaf': 3, 'max_features': 'log2', 'bootstrap': False}. Best is trial 24 with value: 0.7569794875105228.\n",
      "[I 2024-12-21 03:24:40,255] Trial 27 finished with value: 0.7544034516197436 and parameters: {'n_estimators': 217, 'max_depth': 25, 'min_samples_split': 6, 'min_samples_leaf': 3, 'max_features': 'log2', 'bootstrap': False}. Best is trial 24 with value: 0.7569794875105228.\n",
      "[I 2024-12-21 03:24:42,147] Trial 29 finished with value: 0.74579045796368 and parameters: {'n_estimators': 213, 'max_depth': 26, 'min_samples_split': 6, 'min_samples_leaf': 3, 'max_features': 'log2', 'bootstrap': True}. Best is trial 24 with value: 0.7569794875105228.\n",
      "[I 2024-12-21 03:24:43,027] Trial 30 finished with value: 0.7403949659013492 and parameters: {'n_estimators': 164, 'max_depth': 28, 'min_samples_split': 5, 'min_samples_leaf': 4, 'max_features': 'log2', 'bootstrap': True}. Best is trial 24 with value: 0.7569794875105228.\n",
      "[I 2024-12-21 03:24:43,635] Trial 28 finished with value: 0.7557830699442176 and parameters: {'n_estimators': 209, 'max_depth': 25, 'min_samples_split': 6, 'min_samples_leaf': 4, 'max_features': 'log2', 'bootstrap': False}. Best is trial 24 with value: 0.7569794875105228.\n",
      "[I 2024-12-21 03:24:50,603] Trial 31 finished with value: 0.7411883395237371 and parameters: {'n_estimators': 158, 'max_depth': 26, 'min_samples_split': 4, 'min_samples_leaf': 4, 'max_features': 'log2', 'bootstrap': True}. Best is trial 24 with value: 0.7569794875105228.\n",
      "[I 2024-12-21 03:24:57,751] Trial 33 finished with value: 0.7519812049123199 and parameters: {'n_estimators': 164, 'max_depth': 31, 'min_samples_split': 3, 'min_samples_leaf': 2, 'max_features': 'log2', 'bootstrap': False}. Best is trial 24 with value: 0.7569794875105228.\n",
      "[I 2024-12-21 03:24:57,883] Trial 34 finished with value: 0.7525345470716858 and parameters: {'n_estimators': 164, 'max_depth': 30, 'min_samples_split': 3, 'min_samples_leaf': 4, 'max_features': 'log2', 'bootstrap': False}. Best is trial 24 with value: 0.7569794875105228.\n",
      "[I 2024-12-21 03:25:02,681] Trial 32 finished with value: 0.7556387330282287 and parameters: {'n_estimators': 274, 'max_depth': 26, 'min_samples_split': 4, 'min_samples_leaf': 4, 'max_features': 'log2', 'bootstrap': False}. Best is trial 24 with value: 0.7569794875105228.\n",
      "[I 2024-12-21 03:25:08,739] Trial 35 finished with value: 0.7511603477156178 and parameters: {'n_estimators': 199, 'max_depth': 30, 'min_samples_split': 2, 'min_samples_leaf': 2, 'max_features': 'log2', 'bootstrap': False}. Best is trial 24 with value: 0.7569794875105228.\n",
      "[I 2024-12-21 03:25:21,900] Trial 36 finished with value: 0.754334953299497 and parameters: {'n_estimators': 276, 'max_depth': 39, 'min_samples_split': 7, 'min_samples_leaf': 2, 'max_features': 'log2', 'bootstrap': False}. Best is trial 24 with value: 0.7569794875105228.\n",
      "[I 2024-12-21 03:25:23,096] Trial 37 finished with value: 0.7546069674244748 and parameters: {'n_estimators': 277, 'max_depth': 23, 'min_samples_split': 7, 'min_samples_leaf': 2, 'max_features': 'log2', 'bootstrap': False}. Best is trial 24 with value: 0.7569794875105228.\n",
      "[I 2024-12-21 03:25:26,132] Trial 38 finished with value: 0.7516865620998006 and parameters: {'n_estimators': 271, 'max_depth': 40, 'min_samples_split': 8, 'min_samples_leaf': 2, 'max_features': 'log2', 'bootstrap': False}. Best is trial 24 with value: 0.7569794875105228.\n",
      "[I 2024-12-21 03:25:31,108] Trial 39 finished with value: 0.7494953477832003 and parameters: {'n_estimators': 273, 'max_depth': 19, 'min_samples_split': 8, 'min_samples_leaf': 4, 'max_features': 'log2', 'bootstrap': False}. Best is trial 24 with value: 0.7569794875105228.\n",
      "[I 2024-12-21 03:25:42,662] Trial 40 finished with value: 0.750843198054383 and parameters: {'n_estimators': 272, 'max_depth': 19, 'min_samples_split': 10, 'min_samples_leaf': 4, 'max_features': 'log2', 'bootstrap': False}. Best is trial 24 with value: 0.7569794875105228.\n",
      "[I 2024-12-21 03:25:44,923] Trial 41 finished with value: 0.7511272811388024 and parameters: {'n_estimators': 278, 'max_depth': 19, 'min_samples_split': 10, 'min_samples_leaf': 4, 'max_features': 'log2', 'bootstrap': False}. Best is trial 24 with value: 0.7569794875105228.\n",
      "[I 2024-12-21 03:25:45,547] Trial 42 finished with value: 0.7530360837383143 and parameters: {'n_estimators': 247, 'max_depth': 19, 'min_samples_split': 10, 'min_samples_leaf': 4, 'max_features': 'log2', 'bootstrap': False}. Best is trial 24 with value: 0.7569794875105228.\n",
      "[I 2024-12-21 03:25:50,140] Trial 43 finished with value: 0.7496883332265373 and parameters: {'n_estimators': 247, 'max_depth': 22, 'min_samples_split': 4, 'min_samples_leaf': 5, 'max_features': 'log2', 'bootstrap': False}. Best is trial 24 with value: 0.7569794875105228.\n",
      "[I 2024-12-21 03:26:04,040] Trial 44 finished with value: 0.7546253590071303 and parameters: {'n_estimators': 247, 'max_depth': 23, 'min_samples_split': 5, 'min_samples_leaf': 3, 'max_features': 'log2', 'bootstrap': False}. Best is trial 24 with value: 0.7569794875105228.\n",
      "[I 2024-12-21 03:26:05,389] Trial 46 finished with value: 0.7508142714658848 and parameters: {'n_estimators': 246, 'max_depth': 22, 'min_samples_split': 5, 'min_samples_leaf': 5, 'max_features': 'log2', 'bootstrap': False}. Best is trial 24 with value: 0.7569794875105228.\n",
      "[I 2024-12-21 03:26:05,641] Trial 45 finished with value: 0.7567190822686173 and parameters: {'n_estimators': 247, 'max_depth': 21, 'min_samples_split': 5, 'min_samples_leaf': 3, 'max_features': 'log2', 'bootstrap': False}. Best is trial 24 with value: 0.7569794875105228.\n",
      "[I 2024-12-21 03:26:08,268] Trial 47 finished with value: 0.7537205367660857 and parameters: {'n_estimators': 222, 'max_depth': 23, 'min_samples_split': 5, 'min_samples_leaf': 6, 'max_features': 'log2', 'bootstrap': False}. Best is trial 24 with value: 0.7569794875105228.\n",
      "[I 2024-12-21 03:26:12,634] Trial 49 finished with value: 0.7357905396635334 and parameters: {'n_estimators': 231, 'max_depth': 13, 'min_samples_split': 5, 'min_samples_leaf': 6, 'max_features': 'log2', 'bootstrap': True}. Best is trial 24 with value: 0.7569794875105228.\n",
      "[I 2024-12-21 03:26:13,958] Trial 48 finished with value: 0.751996696497314 and parameters: {'n_estimators': 257, 'max_depth': 22, 'min_samples_split': 5, 'min_samples_leaf': 6, 'max_features': 'log2', 'bootstrap': False}. Best is trial 24 with value: 0.7569794875105228.\n"
     ]
    },
    {
     "name": "stdout",
     "output_type": "stream",
     "text": [
      "Best Hyperparameters: {'n_estimators': 262, 'max_depth': 23, 'min_samples_split': 7, 'min_samples_leaf': 4, 'max_features': 'log2', 'bootstrap': False}\n",
      "\n",
      "Classification Report:\n",
      "               precision    recall  f1-score   support\n",
      "\n",
      "           0       0.75      0.70      0.72       656\n",
      "           1       0.65      0.64      0.64       664\n",
      "           2       0.74      0.86      0.80       666\n",
      "           3       0.91      0.83      0.87       693\n",
      "\n",
      "    accuracy                           0.76      2679\n",
      "   macro avg       0.76      0.76      0.76      2679\n",
      "weighted avg       0.76      0.76      0.76      2679\n",
      "\n"
     ]
    }
   ],
   "source": [
    "import optuna\n",
    "from sklearn.ensemble import RandomForestClassifier\n",
    "from sklearn.metrics import f1_score, classification_report\n",
    "from sklearn.model_selection import train_test_split\n",
    "from sklearn.preprocessing import LabelEncoder\n",
    "import numpy as np\n",
    "\n",
    "# Assuming you have X_train, X_test, y_train, y_test already defined\n",
    "# Ensure you have label encoding for categorical target variables\n",
    "label_encoder = LabelEncoder()\n",
    "y_train = label_encoder.fit_transform(y_train)\n",
    "y_test = label_encoder.transform(y_test)\n",
    "\n",
    "# Define the objective function for Optuna\n",
    "def objective(trial):\n",
    "    # Hyperparameters to tune\n",
    "    n_estimators = trial.suggest_int(\"n_estimators\", 50, 300)\n",
    "    max_depth = trial.suggest_int(\"max_depth\", 10, 100, log=True)\n",
    "    min_samples_split = trial.suggest_int(\"min_samples_split\", 2, 20)\n",
    "    min_samples_leaf = trial.suggest_int(\"min_samples_leaf\", 1, 10)\n",
    "    \n",
    "    # Corrected hyperparameter options for max_features\n",
    "    max_features = trial.suggest_categorical(\"max_features\", [\"sqrt\", \"log2\", None])\n",
    "    bootstrap = trial.suggest_categorical(\"bootstrap\", [True, False])\n",
    "\n",
    "    # Create the Random Forest model\n",
    "    rf = RandomForestClassifier(\n",
    "        n_estimators=n_estimators,\n",
    "        max_depth=max_depth,\n",
    "        min_samples_split=min_samples_split,\n",
    "        min_samples_leaf=min_samples_leaf,\n",
    "        max_features=max_features,\n",
    "        bootstrap=bootstrap,\n",
    "        random_state=42,\n",
    "        n_jobs=-1,\n",
    "    )\n",
    "\n",
    "    # Train the model\n",
    "    rf.fit(X_train, y_train)\n",
    "    y_pred = rf.predict(X_test)\n",
    "\n",
    "    # Calculate F1-score for optimization (using macro average for multi-class)\n",
    "    f1 = f1_score(y_test, y_pred, average=\"macro\")\n",
    "    \n",
    "    return f1\n",
    "\n",
    "# Create a study\n",
    "study = optuna.create_study(direction=\"maximize\")  # Maximize F1-score\n",
    "study.optimize(objective, n_trials=50, n_jobs=-1)  # Run 50 trials\n",
    "\n",
    "# Display the best hyperparameters\n",
    "print(\"Best Hyperparameters:\", study.best_params)\n",
    "\n",
    "# Train the final model with the best hyperparameters\n",
    "best_params = study.best_params\n",
    "final_model = RandomForestClassifier(\n",
    "    n_estimators=best_params[\"n_estimators\"],\n",
    "    max_depth=best_params[\"max_depth\"],\n",
    "    min_samples_split=best_params[\"min_samples_split\"],\n",
    "    min_samples_leaf=best_params[\"min_samples_leaf\"],\n",
    "    max_features=best_params[\"max_features\"],\n",
    "    bootstrap=best_params[\"bootstrap\"],\n",
    "    random_state=42,\n",
    "    n_jobs=-1,\n",
    ")\n",
    "final_model.fit(X_train, y_train)\n",
    "\n",
    "# Evaluate the final model\n",
    "y_pred = final_model.predict(X_test)\n",
    "\n",
    "# Ensure target_names are in the correct format\n",
    "class_names = [str(cls) for cls in label_encoder.classes_]\n",
    "\n",
    "# Generate a classification report, explicitly passing the labels from y_test\n",
    "report = classification_report(y_test, y_pred, target_names=class_names, labels=np.unique(y_test))\n",
    "\n",
    "# Display the classification report\n",
    "print(\"\\nClassification Report:\\n\", report)\n"
   ]
  },
  {
   "cell_type": "markdown",
   "id": "2c1093b3-a560-4f91-8218-cc897967069f",
   "metadata": {},
   "source": [
    "# CROSS VALIDATION"
   ]
  },
  {
   "cell_type": "code",
   "execution_count": null,
   "id": "1e02ff50-31e3-46a7-831e-b31578fbd836",
   "metadata": {},
   "outputs": [
    {
     "name": "stdout",
     "output_type": "stream",
     "text": [
      "Cross-Validation Scores for Each Metric:\n",
      "Accuracy: [0.72235184 0.74615026 0.72468502 0.73015873 0.73762838]\n",
      "Precision (Macro): [0.72858233 0.7487671  0.7306299  0.73498255 0.74418269]\n",
      "Recall (Macro): [0.72256519 0.74641337 0.72487929 0.73048058 0.73794915]\n",
      "F1-score (Macro): [0.72311903 0.74642634 0.72504639 0.72974169 0.73880914]\n",
      "\n",
      "Average Cross-Validation Scores:\n",
      "Average Accuracy: 0.7322\n",
      "Average Precision (Macro): 0.7374\n",
      "Average Recall (Macro): 0.7325\n",
      "Average F1-score (Macro): 0.7326\n"
     ]
    }
   ],
   "source": [
    "from sklearn.model_selection import cross_validate\n",
    "from sklearn.ensemble import RandomForestClassifier\n",
    "from sklearn.model_selection import StratifiedKFold\n",
    "import numpy as np\n",
    "\n",
    "# Set up the model with best hyperparameters\n",
    "rf = RandomForestClassifier(\n",
    "    n_estimators=262,  # from best hyperparameters\n",
    "    max_depth=23,\n",
    "    min_samples_split=7,\n",
    "    min_samples_leaf=4,\n",
    "    max_features='log2',\n",
    "    bootstrap=False,\n",
    "    random_state=42,\n",
    "    n_jobs=-1\n",
    ")\n",
    "\n",
    "# Set up k-fold cross-validation\n",
    "cv = StratifiedKFold(n_splits=5, shuffle=True, random_state=42)\n",
    "\n",
    "# Define the metrics\n",
    "scoring = ['accuracy', 'precision_macro', 'recall_macro', 'f1_macro']\n",
    "\n",
    "# Perform cross-validation and get scores for each metric\n",
    "cv_results = cross_validate(rf, X_train, y_train, cv=cv, scoring=scoring, n_jobs=-1)\n",
    "\n",
    "# Print the cross-validation scores for each metric\n",
    "print(\"Cross-Validation Scores for Each Metric:\")\n",
    "print(f\"Accuracy: {cv_results['test_accuracy']}\")\n",
    "print(f\"Precision (Macro): {cv_results['test_precision_macro']}\")\n",
    "print(f\"Recall (Macro): {cv_results['test_recall_macro']}\")\n",
    "print(f\"F1-score (Macro): {cv_results['test_f1_macro']}\")\n",
    "\n",
    "# Print average scores for each metric\n",
    "print(\"\\nAverage Cross-Validation Scores:\")\n",
    "print(f\"Average Accuracy: {np.mean(cv_results['test_accuracy']):.4f}\")\n",
    "print(f\"Average Precision (Macro): {np.mean(cv_results['test_precision_macro']):.4f}\")\n",
    "print(f\"Average Recall (Macro): {np.mean(cv_results['test_recall_macro']):.4f}\")\n",
    "print(f\"Average F1-score (Macro): {np.mean(cv_results['test_f1_macro']):.4f}\")\n"
   ]
  },
  {
   "cell_type": "code",
   "execution_count": null,
   "id": "1cec8701-2153-4a30-83ea-a2b4faf2b4cd",
   "metadata": {},
   "outputs": [],
   "source": []
  },
  {
   "cell_type": "code",
   "execution_count": null,
   "id": "2f8cc64f-060e-4eec-accc-eb1b42d911ee",
   "metadata": {},
   "outputs": [],
   "source": []
  },
  {
   "cell_type": "code",
   "execution_count": null,
   "id": "11456d64-b86b-4bb4-8342-1fad50be06ae",
   "metadata": {},
   "outputs": [],
   "source": []
  },
  {
   "cell_type": "code",
   "execution_count": null,
   "id": "2f697ac8-4b33-4827-a66f-a2a687100eb6",
   "metadata": {},
   "outputs": [],
   "source": []
  },
  {
   "cell_type": "code",
   "execution_count": 159,
   "id": "b230063f-a911-4ff1-9505-5bfe86398d55",
   "metadata": {},
   "outputs": [
    {
     "name": "stderr",
     "output_type": "stream",
     "text": [
      "2024-12-21 03:36:59.780 \n",
      "  \u001b[33m\u001b[1mWarning:\u001b[0m to view this Streamlit app on a browser, run it with the following\n",
      "  command:\n",
      "\n",
      "    streamlit run C:\\Users\\USER\\anaconda3\\Lib\\site-packages\\ipykernel_launcher.py [ARGUMENTS]\n"
     ]
    }
   ],
   "source": [
    "import streamlit as st\n",
    "import pandas as pd\n",
    "import seaborn as sns\n",
    "import matplotlib.pyplot as plt\n",
    "from sklearn.model_selection import train_test_split\n",
    "from sklearn.ensemble import RandomForestClassifier\n",
    "from sklearn.metrics import classification_report, accuracy_score\n",
    "from sklearn.preprocessing import LabelEncoder, StandardScaler\n",
    "\n",
    "# Load dataset\n",
    "def load_data():\n",
    "    return pd.read_csv(\"B:\\projectML\\Body Performance\\Body_Performance.csv\")\n",
    "\n",
    "# Preprocess data\n",
    "def preprocess_data(df):\n",
    "    le = LabelEncoder()\n",
    "    df['Gender'] = le.fit_transform(df['Gender'])\n",
    "    X = df.drop('Performance', axis=1)\n",
    "    y = df['Performance']\n",
    "    return X, y\n",
    "\n",
    "# Streamlit application\n",
    "st.title(\"Performance Classification App\")\n",
    "st.sidebar.title(\"Navigation\")\n",
    "\n",
    "# Load and display data\n",
    "data = load_data()\n",
    "\n",
    "if st.sidebar.checkbox(\"Show Raw Data\"):\n",
    "    st.subheader(\"Raw Data\")\n",
    "    st.write(data)\n",
    "\n",
    "# Exploratory Data Analysis (EDA)\n",
    "if st.sidebar.checkbox(\"Show EDA\"):\n",
    "    st.subheader(\"Exploratory Data Analysis\")\n",
    "    st.write(\"Dataset Shape:\", data.shape)\n",
    "    st.write(\"Summary Statistics:\")\n",
    "    st.write(data.describe())\n",
    "\n",
    "    st.subheader(\"Feature Correlations\")\n",
    "    fig, ax = plt.subplots()\n",
    "    sns.heatmap(data.corr(), annot=True, fmt=\".2f\", cmap=\"coolwarm\", ax=ax)\n",
    "    st.pyplot(fig)\n",
    "\n",
    "# Train and evaluate a model\n",
    "if st.sidebar.checkbox(\"Train Model\"):\n",
    "    st.subheader(\"Model Training\")\n",
    "\n",
    "    # Preprocess data\n",
    "    X, y = preprocess_data(data)\n",
    "\n",
    "    # Train-test split\n",
    "    X_train, X_test, y_train, y_test = train_test_split(X, y, test_size=0.2, random_state=42)\n",
    "\n",
    "    # Normalize features\n",
    "    scaler = StandardScaler()\n",
    "    X_train = scaler.fit_transform(X_train)\n",
    "    X_test = scaler.transform(X_test)\n",
    "\n",
    "    # Train a Random Forest model\n",
    "    model = RandomForestClassifier(random_state=42)\n",
    "    model.fit(X_train, y_train)\n",
    "\n",
    "    # Predictions\n",
    "    y_pred = model.predict(X_test)\n",
    "\n",
    "    # Results\n",
    "    st.write(\"Classification Report:\")\n",
    "    st.text(classification_report(y_test, y_pred))\n",
    "    st.write(\"Accuracy:\", accuracy_score(y_test, y_pred))\n",
    "\n",
    "# User input for prediction\n",
    "if st.sidebar.checkbox(\"Make Predictions\"):\n",
    "    st.subheader(\"Make Predictions\")\n",
    "\n",
    "    def user_input():\n",
    "        age = st.number_input(\"Age\", min_value=0, max_value=100, value=25)\n",
    "        gender = st.selectbox(\"Gender\", options=['Male', 'Female'])\n",
    "        height = st.number_input(\"Height (cm)\", min_value=100, max_value=250, value=170)\n",
    "        weight = st.number_input(\"Weight (kg)\", min_value=30, max_value=200, value=70)\n",
    "        body_fat = st.number_input(\"Body Fat (%)\", min_value=5, max_value=50, value=20)\n",
    "        diastolic = st.number_input(\"Diastolic BP\", min_value=50, max_value=150, value=80)\n",
    "        systolic = st.number_input(\"Systolic BP\", min_value=90, max_value=200, value=120)\n",
    "        grip_force = st.number_input(\"Grip Force\", min_value=0, max_value=100, value=50)\n",
    "        sit_bend = st.number_input(\"Sit & Bend Forward (cm)\", min_value=-50, max_value=50, value=10)\n",
    "        sit_up = st.number_input(\"Sit Up Counts\", min_value=0, max_value=100, value=30)\n",
    "        broad_jump = st.number_input(\"Broad Jump (cm)\", min_value=0, max_value=300, value=200)\n",
    "\n",
    "        gender = 1 if gender == 'Male' else 0\n",
    "\n",
    "        return [age, gender, height, weight, body_fat, diastolic, systolic, grip_force, sit_bend, sit_up, broad_jump]\n",
    "\n",
    "    user_data = user_input()\n",
    "\n",
    "    if st.button(\"Predict Performance\"):\n",
    "        X, y = preprocess_data(data)\n",
    "        scaler = StandardScaler()\n",
    "        X = scaler.fit_transform(X)\n",
    "        model = RandomForestClassifier(random_state=42)\n",
    "        model.fit(X, y)\n",
    "        prediction = model.predict(scaler.transform([user_data]))\n",
    "        st.write(\"Predicted Performance:\", prediction[0])\n"
   ]
  },
  {
   "cell_type": "code",
   "execution_count": null,
   "id": "9c46e052-bd0e-4732-ad18-e79982a2e93b",
   "metadata": {},
   "outputs": [],
   "source": []
  }
 ],
 "metadata": {
  "kernelspec": {
   "display_name": "Python 3 (ipykernel)",
   "language": "python",
   "name": "python3"
  },
  "language_info": {
   "codemirror_mode": {
    "name": "ipython",
    "version": 3
   },
   "file_extension": ".py",
   "mimetype": "text/x-python",
   "name": "python",
   "nbconvert_exporter": "python",
   "pygments_lexer": "ipython3",
   "version": "3.13.5"
  }
 },
 "nbformat": 4,
 "nbformat_minor": 5
}
